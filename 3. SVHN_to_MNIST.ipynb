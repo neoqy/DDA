{
 "cells": [
  {
   "cell_type": "markdown",
   "metadata": {
    "colab_type": "text",
    "id": "RTya_dtvpdaX"
   },
   "source": [
    "# Preparations"
   ]
  },
  {
   "cell_type": "code",
   "execution_count": 1,
   "metadata": {
    "colab": {
     "autoexec": {
      "startup": false,
      "wait_interval": 0
     }
    },
    "colab_type": "code",
    "id": "e9W0cTFEPmAl"
   },
   "outputs": [],
   "source": [
    "import torch\n",
    "import torchvision\n",
    "import os.path\n",
    "\n",
    "import numpy as np\n",
    "import torch.nn as nn\n",
    "import torch.nn.functional as F\n",
    "import torch.optim as optim\n",
    "import torchvision.transforms as transforms\n",
    "import matplotlib.pyplot as plt\n",
    "\n",
    "from sklearn import manifold\n",
    "from math import exp, sqrt\n",
    "from torch.autograd import Variable\n",
    "from my_dataset import MNIST_M\n",
    "from my_dataset import ST_Dataset\n",
    "\n",
    "%matplotlib inline\n",
    "%load_ext skip_kernel_extension"
   ]
  },
  {
   "cell_type": "code",
   "execution_count": 2,
   "metadata": {
    "colab": {
     "autoexec": {
      "startup": false,
      "wait_interval": 0
     },
     "base_uri": "https://localhost:8080/",
     "height": 35
    },
    "colab_type": "code",
    "executionInfo": {
     "elapsed": 363,
     "status": "ok",
     "timestamp": 1523506225267,
     "user": {
      "displayName": "Yuan Qi",
      "photoUrl": "//lh6.googleusercontent.com/--bd6SE8_hDo/AAAAAAAAAAI/AAAAAAAAAE0/J27oawL5omk/s50-c-k-no/photo.jpg",
      "userId": "112219197582513023329"
     },
     "user_tz": 420
    },
    "id": "4BrzNF_oQL77",
    "outputId": "fe8e2212-37c8-4027-d176-ef46991bcd01"
   },
   "outputs": [
    {
     "name": "stdout",
     "output_type": "stream",
     "text": [
      "use_gpu = True\n"
     ]
    }
   ],
   "source": [
    "use_gpu = torch.cuda.is_available()\n",
    "print(\"use_gpu = \" + str(use_gpu))"
   ]
  },
  {
   "cell_type": "markdown",
   "metadata": {
    "colab_type": "text",
    "id": "5AX_Msxj4we7"
   },
   "source": [
    "# Structure\n",
    "\n",
    "![SVHN-MNIST Structure](https://c1.staticflickr.com/1/945/41945025492_f9db7ac20a_o.png)"
   ]
  },
  {
   "cell_type": "code",
   "execution_count": 3,
   "metadata": {
    "colab": {
     "autoexec": {
      "startup": false,
      "wait_interval": 0
     },
     "base_uri": "https://localhost:8080/",
     "height": 211
    },
    "colab_type": "code",
    "executionInfo": {
     "elapsed": 310,
     "status": "ok",
     "timestamp": 1523506395172,
     "user": {
      "displayName": "Yuan Qi",
      "photoUrl": "//lh6.googleusercontent.com/--bd6SE8_hDo/AAAAAAAAAAI/AAAAAAAAAE0/J27oawL5omk/s50-c-k-no/photo.jpg",
      "userId": "112219197582513023329"
     },
     "user_tz": 420
    },
    "id": "d5glpPlhprD4",
    "outputId": "6e9189d3-996c-434c-985e-0e88793fe4eb",
    "scrolled": true
   },
   "outputs": [],
   "source": [
    "import torch.nn as nn\n",
    "import torch.nn.functional as F\n",
    "\n",
    "class CNN(nn.Module):\n",
    "    \n",
    "    def __init__(self):\n",
    "        super(CNN, self).__init__()\n",
    "        self.C1 = nn.Conv2d(3, 96, kernel_size=5, padding=2)\n",
    "        self.C2 = nn.Conv2d(96, 144, kernel_size=3, padding=1)\n",
    "        self.C3 = nn.Conv2d(144, 256, kernel_size=5, padding=2)\n",
    "        self.FC1 = nn.Linear(256 * 4 * 4, 512)\n",
    "        self.FC2 = nn.Linear(512, 10)\n",
    "        \n",
    "    def forward(self, x):\n",
    "        # C1\n",
    "        x = F.relu(self.C1(x))\n",
    "        # M1\n",
    "        x = F.max_pool2d(x, (2, 2), stride=(2, 2))\n",
    "        # C2\n",
    "        x = F.relu(self.C2(x))\n",
    "        # M2\n",
    "        x = F.max_pool2d(x, (2, 2), stride=(2, 2))\n",
    "        # C3\n",
    "        x = F.relu(self.C3(x))\n",
    "        # M3\n",
    "        x = F.max_pool2d(x, (2, 2), stride=(2, 2))\n",
    "        # x's size is (128, 256, 4, 4)\n",
    "        # flatten\n",
    "        x = x.view(-1, 256 * 4 * 4)\n",
    "        f = x\n",
    "        # FC1\n",
    "        x = F.relu(self.FC1(x))\n",
    "        lh = x\n",
    "        # FC2\n",
    "        x = self.FC2(x)\n",
    "        return x, f, lh"
   ]
  },
  {
   "cell_type": "code",
   "execution_count": 4,
   "metadata": {},
   "outputs": [
    {
     "name": "stdout",
     "output_type": "stream",
     "text": [
      "CNN(\n",
      "  (C1): Conv2d(3, 96, kernel_size=(5, 5), stride=(1, 1), padding=(2, 2))\n",
      "  (C2): Conv2d(96, 144, kernel_size=(3, 3), stride=(1, 1), padding=(1, 1))\n",
      "  (C3): Conv2d(144, 256, kernel_size=(5, 5), stride=(1, 1), padding=(2, 2))\n",
      "  (FC1): Linear(in_features=4096, out_features=512, bias=True)\n",
      "  (FC2): Linear(in_features=512, out_features=10, bias=True)\n",
      ")\n"
     ]
    }
   ],
   "source": [
    "cnn_svhn = CNN()\n",
    "if (use_gpu):\n",
    "    cnn_svhn.cuda()\n",
    "print(cnn_svhn)"
   ]
  },
  {
   "cell_type": "code",
   "execution_count": 5,
   "metadata": {},
   "outputs": [],
   "source": [
    "def reset(model):\n",
    "    for m in model.modules():\n",
    "        if isinstance(m, nn.Conv2d):\n",
    "            n = m.kernel_size[0] * m.kernel_size[1] * m.out_channels\n",
    "            m.weight.data.normal_(0, sqrt(2 / n))\n",
    "            if m.bias is not None:\n",
    "                m.bias.data.zero_()\n",
    "        elif isinstance(m, nn.Linear):\n",
    "            size = m.weight.size()\n",
    "            fan_out = size[0] # number of rows\n",
    "            fan_in = size[1] # number of columns\n",
    "            m.weight.data.normal_(0, sqrt(2 / (fan_in + fan_out)))\n",
    "            m.bias.data.zero_()\n",
    "        elif hasattr(m, 'reset_parameters'):\n",
    "            m.reset_parameters()"
   ]
  },
  {
   "cell_type": "markdown",
   "metadata": {
    "colab_type": "text",
    "id": "WaXlbBWN44Gd"
   },
   "source": [
    "# SVHN Dataset"
   ]
  },
  {
   "cell_type": "code",
   "execution_count": 6,
   "metadata": {
    "colab": {
     "autoexec": {
      "startup": false,
      "wait_interval": 0
     },
     "base_uri": "https://localhost:8080/",
     "height": 123
    },
    "colab_type": "code",
    "executionInfo": {
     "elapsed": 30198,
     "status": "ok",
     "timestamp": 1523506265222,
     "user": {
      "displayName": "Yuan Qi",
      "photoUrl": "//lh6.googleusercontent.com/--bd6SE8_hDo/AAAAAAAAAAI/AAAAAAAAAE0/J27oawL5omk/s50-c-k-no/photo.jpg",
      "userId": "112219197582513023329"
     },
     "user_tz": 420
    },
    "id": "e5G7cSEk0V2S",
    "outputId": "621eee0f-8ee7-490e-db5f-f82317d18f8c"
   },
   "outputs": [
    {
     "name": "stdout",
     "output_type": "stream",
     "text": [
      "Using downloaded and verified file: ./data/svhn/train_32x32.mat\n",
      "Using downloaded and verified file: ./data/svhn/test_32x32.mat\n"
     ]
    }
   ],
   "source": [
    "import torchvision\n",
    "import torchvision.transforms as transforms\n",
    "import os.path\n",
    "\n",
    "root_dir = \"./data/\"\n",
    "data_dir = \"svhn/\"\n",
    "\n",
    "transform = transforms.Compose([\n",
    "    transforms.ToTensor(),\n",
    "    transforms.Normalize((0.5, 0.5, 0.5), (0.5, 0.5, 0.5)),\n",
    "])\n",
    "\n",
    "batch_size = 128\n",
    "\n",
    "trainset_svhn = torchvision.datasets.SVHN(os.path.join(root_dir, data_dir),\n",
    "                                          split=\"train\", transform=transform, download=True)\n",
    "trainloader_svhn = torch.utils.data.DataLoader(trainset_svhn, batch_size=batch_size,\n",
    "                                          shuffle=False, num_workers=0)\n",
    "testset_svhn = torchvision.datasets.SVHN(os.path.join(root_dir, data_dir),\n",
    "                                          split=\"test\", transform=transform, download=True)\n",
    "testloader_svhn = torch.utils.data.DataLoader(testset_svhn, batch_size=batch_size,\n",
    "                                          shuffle=False, num_workers=0)\n"
   ]
  },
  {
   "cell_type": "code",
   "execution_count": 7,
   "metadata": {},
   "outputs": [],
   "source": [
    "# this function takes the numpy input image with dim 3 x height x width\n",
    "def convert_to_plt(input_image):\n",
    "    input_image = input_image*np.asarray([0.5,0.5,0.5]) + np.asarray([0.5,0.5,0.5])\n",
    "    return input_image"
   ]
  },
  {
   "cell_type": "code",
   "execution_count": 8,
   "metadata": {
    "colab": {
     "autoexec": {
      "startup": false,
      "wait_interval": 0
     },
     "base_uri": "https://localhost:8080/",
     "height": 159
    },
    "colab_type": "code",
    "executionInfo": {
     "elapsed": 381,
     "status": "ok",
     "timestamp": 1523506265637,
     "user": {
      "displayName": "Yuan Qi",
      "photoUrl": "//lh6.googleusercontent.com/--bd6SE8_hDo/AAAAAAAAAAI/AAAAAAAAAE0/J27oawL5omk/s50-c-k-no/photo.jpg",
      "userId": "112219197582513023329"
     },
     "user_tz": 420
    },
    "id": "VTlEvJBY-ziX",
    "outputId": "54f6931a-ca67-452c-81fc-6c4cfae9e89a"
   },
   "outputs": [
    {
     "name": "stdout",
     "output_type": "stream",
     "text": [
      "The 10th image in the first 128 images in the training set:\n"
     ]
    },
    {
     "data": {
      "image/png": "[encoded data removed]",
      "text/plain": [
       "<Figure size 72x72 with 1 Axes>"
      ]
     },
     "metadata": {},
     "output_type": "display_data"
    },
    {
     "name": "stdout",
     "output_type": "stream",
     "text": [
      "Its correspondent label:\n",
      "tensor(3)\n"
     ]
    }
   ],
   "source": [
    "# randomly plot a sample from training set\n",
    "import matplotlib.pyplot as plt\n",
    "\n",
    "inputs = None\n",
    "labels = None\n",
    "for i, data in enumerate(trainloader_svhn):\n",
    "    inputs, labels = data\n",
    "    break\n",
    "\n",
    "idx = np.random.randint(0, batch_size)\n",
    "print(\"The \" + str(idx) + \"th image in the first \" + str(batch_size) +\\\n",
    "      \" images in the training set:\")\n",
    "\n",
    "plt_img = convert_to_plt(inputs[idx].permute(1, 2, 0).cpu().data.numpy())\n",
    "plt.figure(figsize=(1,1))\n",
    "plt.axis(\"off\")\n",
    "plt.imshow(plt_img)\n",
    "plt.show()\n",
    "print(\"Its correspondent label:\\n\" + str(labels[idx]))"
   ]
  },
  {
   "cell_type": "markdown",
   "metadata": {
    "colab_type": "text",
    "id": "pcSb16SIFgZt"
   },
   "source": [
    "## Training on MNIST\n",
    "\n",
    "Or you can load the parameters directly."
   ]
  },
  {
   "cell_type": "code",
   "execution_count": 37,
   "metadata": {},
   "outputs": [
    {
     "name": "stdout",
     "output_type": "stream",
     "text": [
      "load_model = False\n"
     ]
    }
   ],
   "source": [
    "import os.path\n",
    "para_file = \"./parameters/cnn3_svhn.pt\"\n",
    "if not os.path.exists('./parameters'):\n",
    "    os.makedirs('./parameters')\n",
    "load_model = os.path.isfile(para_file)\n",
    "print(\"load_model = \" + str(load_model))"
   ]
  },
  {
   "cell_type": "code",
   "execution_count": 38,
   "metadata": {},
   "outputs": [],
   "source": [
    "%%skip (not $load_model)\n",
    "cnn_svhn.load_state_dict(torch.load(para_file))"
   ]
  },
  {
   "cell_type": "markdown",
   "metadata": {},
   "source": [
    "### Optimizer"
   ]
  },
  {
   "cell_type": "code",
   "execution_count": 39,
   "metadata": {
    "colab": {
     "autoexec": {
      "startup": false,
      "wait_interval": 0
     }
    },
    "colab_type": "code",
    "id": "YRHBSIQ2FkOL"
   },
   "outputs": [],
   "source": [
    "import torch.optim as optim\n",
    "\n",
    "lr_init = 0.01\n",
    "criterion = nn.CrossEntropyLoss()\n",
    "optimizer = optim.SGD(cnn_svhn.parameters(), lr=lr_init, momentum=0.9)\n",
    "\n",
    "def adjust_lr(optimizer, p):\n",
    "    global lr_init\n",
    "    lr_0 = lr_init\n",
    "    alpha = 10\n",
    "    beta = 0.75\n",
    "    lr = lr_0 / (1 + alpha * p) ** beta\n",
    "    for param_group in optimizer.param_groups:\n",
    "        param_group['lr'] = lr"
   ]
  },
  {
   "cell_type": "markdown",
   "metadata": {
    "colab_type": "text",
    "id": "DgUSfM0KF4iT"
   },
   "source": [
    "### Training process"
   ]
  },
  {
   "cell_type": "code",
   "execution_count": 40,
   "metadata": {
    "colab": {
     "autoexec": {
      "startup": false,
      "wait_interval": 0
     },
     "base_uri": "https://localhost:8080/",
     "height": 10050
    },
    "colab_type": "code",
    "executionInfo": {
     "elapsed": 606703,
     "status": "ok",
     "timestamp": 1523144380194,
     "user": {
      "displayName": "Yuan Qi",
      "photoUrl": "//lh6.googleusercontent.com/--bd6SE8_hDo/AAAAAAAAAAI/AAAAAAAAAE0/J27oawL5omk/s50-c-k-no/photo.jpg",
      "userId": "112219197582513023329"
     },
     "user_tz": 420
    },
    "id": "IlstjDLbFkQ6",
    "outputId": "59a56d48-bdaa-4e0e-bc20-0feaecd74fa5",
    "scrolled": true
   },
   "outputs": [
    {
     "name": "stdout",
     "output_type": "stream",
     "text": [
      "[ 50] batch loss: 2.243\n",
      "[100] batch loss: 2.187\n",
      "[150] batch loss: 1.885\n",
      "[200] batch loss: 1.206\n",
      "[250] batch loss: 0.825\n",
      "[300] batch loss: 0.671\n",
      "[350] batch loss: 0.617\n",
      "[400] batch loss: 0.534\n",
      "[450] batch loss: 0.530\n",
      "[500] batch loss: 0.499\n",
      "[550] batch loss: 0.490\n",
      "epoch 1 loss: inf -> 595.178\n",
      "\n",
      "[ 50] batch loss: 0.431\n",
      "[100] batch loss: 0.424\n",
      "[150] batch loss: 0.409\n",
      "[200] batch loss: 0.433\n",
      "[250] batch loss: 0.391\n",
      "[300] batch loss: 0.370\n",
      "[350] batch loss: 0.357\n",
      "[400] batch loss: 0.335\n",
      "[450] batch loss: 0.340\n",
      "[500] batch loss: 0.327\n",
      "[550] batch loss: 0.336\n",
      "epoch 2 loss: 595.178 -> 215.407\n",
      "\n",
      "[ 50] batch loss: 0.317\n",
      "[100] batch loss: 0.313\n",
      "[150] batch loss: 0.299\n",
      "[200] batch loss: 0.334\n",
      "[250] batch loss: 0.292\n",
      "[300] batch loss: 0.274\n",
      "[350] batch loss: 0.276\n",
      "[400] batch loss: 0.253\n",
      "[450] batch loss: 0.265\n",
      "[500] batch loss: 0.246\n",
      "[550] batch loss: 0.260\n",
      "epoch 3 loss: 215.407 -> 162.362\n",
      "\n",
      "[ 50] batch loss: 0.254\n",
      "[100] batch loss: 0.251\n",
      "[150] batch loss: 0.243\n",
      "[200] batch loss: 0.276\n",
      "[250] batch loss: 0.239\n",
      "[300] batch loss: 0.220\n",
      "[350] batch loss: 0.222\n",
      "[400] batch loss: 0.203\n",
      "[450] batch loss: 0.218\n",
      "[500] batch loss: 0.199\n",
      "[550] batch loss: 0.209\n",
      "epoch 4 loss: 162.362 -> 131.179\n",
      "\n",
      "[ 50] batch loss: 0.212\n",
      "[100] batch loss: 0.207\n",
      "[150] batch loss: 0.205\n",
      "[200] batch loss: 0.234\n",
      "[250] batch loss: 0.201\n",
      "[300] batch loss: 0.182\n",
      "[350] batch loss: 0.182\n",
      "[400] batch loss: 0.166\n",
      "[450] batch loss: 0.182\n",
      "[500] batch loss: 0.162\n",
      "[550] batch loss: 0.169\n",
      "epoch 5 loss: 131.179 -> 108.736\n",
      "\n",
      "[ 50] batch loss: 0.176\n",
      "[100] batch loss: 0.173\n",
      "[150] batch loss: 0.174\n",
      "[200] batch loss: 0.200\n",
      "[250] batch loss: 0.172\n",
      "[300] batch loss: 0.152\n",
      "[350] batch loss: 0.152\n",
      "[400] batch loss: 0.137\n",
      "[450] batch loss: 0.152\n",
      "[500] batch loss: 0.132\n",
      "[550] batch loss: 0.140\n",
      "epoch 6 loss: 108.736 -> 90.924\n",
      "\n",
      "[ 50] batch loss: 0.146\n",
      "[100] batch loss: 0.145\n",
      "[150] batch loss: 0.148\n",
      "[200] batch loss: 0.171\n",
      "[250] batch loss: 0.145\n",
      "[300] batch loss: 0.126\n",
      "[350] batch loss: 0.125\n",
      "[400] batch loss: 0.113\n",
      "[450] batch loss: 0.129\n",
      "[500] batch loss: 0.110\n",
      "[550] batch loss: 0.118\n",
      "epoch 7 loss: 90.924 -> 76.270\n",
      "\n",
      "[ 50] batch loss: 0.124\n",
      "[100] batch loss: 0.121\n",
      "[150] batch loss: 0.125\n",
      "[200] batch loss: 0.145\n",
      "[250] batch loss: 0.120\n",
      "[300] batch loss: 0.104\n",
      "[350] batch loss: 0.103\n",
      "[400] batch loss: 0.093\n",
      "[450] batch loss: 0.109\n",
      "[500] batch loss: 0.091\n",
      "[550] batch loss: 0.100\n",
      "epoch 8 loss: 76.270 -> 63.833\n",
      "\n",
      "[ 50] batch loss: 0.106\n",
      "[100] batch loss: 0.103\n",
      "[150] batch loss: 0.103\n",
      "[200] batch loss: 0.121\n",
      "[250] batch loss: 0.099\n",
      "[300] batch loss: 0.087\n",
      "[350] batch loss: 0.087\n",
      "[400] batch loss: 0.077\n",
      "[450] batch loss: 0.092\n",
      "[500] batch loss: 0.076\n",
      "[550] batch loss: 0.084\n",
      "epoch 9 loss: 63.833 -> 53.548\n",
      "\n",
      "[ 50] batch loss: 0.088\n",
      "[100] batch loss: 0.088\n",
      "[150] batch loss: 0.083\n",
      "[200] batch loss: 0.100\n",
      "[250] batch loss: 0.082\n",
      "[300] batch loss: 0.074\n",
      "[350] batch loss: 0.071\n",
      "[400] batch loss: 0.063\n",
      "[450] batch loss: 0.076\n",
      "[500] batch loss: 0.062\n",
      "[550] batch loss: 0.068\n",
      "epoch 10 loss: 53.548 -> 44.159\n",
      "\n",
      "[ 50] batch loss: 0.071\n",
      "[100] batch loss: 0.074\n",
      "[150] batch loss: 0.067\n",
      "[200] batch loss: 0.080\n",
      "[250] batch loss: 0.066\n",
      "[300] batch loss: 0.063\n",
      "[350] batch loss: 0.059\n",
      "[400] batch loss: 0.052\n",
      "[450] batch loss: 0.063\n",
      "[500] batch loss: 0.050\n",
      "[550] batch loss: 0.056\n",
      "epoch 11 loss: 44.159 -> 36.181\n",
      "\n",
      "[ 50] batch loss: 0.055\n",
      "[100] batch loss: 0.064\n",
      "[150] batch loss: 0.055\n",
      "[200] batch loss: 0.064\n",
      "[250] batch loss: 0.052\n",
      "[300] batch loss: 0.053\n",
      "[350] batch loss: 0.048\n",
      "[400] batch loss: 0.043\n",
      "[450] batch loss: 0.051\n",
      "[500] batch loss: 0.041\n",
      "[550] batch loss: 0.046\n",
      "epoch 12 loss: 36.181 -> 29.633\n",
      "\n",
      "[ 50] batch loss: 0.044\n",
      "[100] batch loss: 0.054\n",
      "[150] batch loss: 0.047\n",
      "[200] batch loss: 0.052\n",
      "[250] batch loss: 0.042\n",
      "[300] batch loss: 0.045\n",
      "[350] batch loss: 0.039\n",
      "[400] batch loss: 0.035\n",
      "[450] batch loss: 0.043\n",
      "[500] batch loss: 0.034\n",
      "[550] batch loss: 0.037\n",
      "epoch 13 loss: 29.633 -> 24.316\n",
      "\n",
      "[ 50] batch loss: 0.035\n",
      "[100] batch loss: 0.045\n",
      "[150] batch loss: 0.039\n",
      "[200] batch loss: 0.042\n",
      "[250] batch loss: 0.033\n",
      "[300] batch loss: 0.036\n",
      "[350] batch loss: 0.032\n",
      "[400] batch loss: 0.027\n",
      "[450] batch loss: 0.036\n",
      "[500] batch loss: 0.028\n",
      "[550] batch loss: 0.029\n",
      "epoch 14 loss: 24.316 -> 19.820\n",
      "\n",
      "[ 50] batch loss: 0.030\n",
      "[100] batch loss: 0.038\n",
      "[150] batch loss: 0.032\n",
      "[200] batch loss: 0.034\n",
      "[250] batch loss: 0.027\n",
      "[300] batch loss: 0.029\n",
      "[350] batch loss: 0.026\n",
      "[400] batch loss: 0.021\n",
      "[450] batch loss: 0.029\n",
      "[500] batch loss: 0.025\n",
      "[550] batch loss: 0.024\n",
      "epoch 15 loss: 19.820 -> 16.312\n",
      "\n",
      "[ 50] batch loss: 0.026\n",
      "[100] batch loss: 0.031\n",
      "[150] batch loss: 0.025\n",
      "[200] batch loss: 0.027\n",
      "[250] batch loss: 0.022\n",
      "[300] batch loss: 0.023\n",
      "[350] batch loss: 0.021\n",
      "[400] batch loss: 0.018\n",
      "[450] batch loss: 0.021\n",
      "[500] batch loss: 0.021\n",
      "[550] batch loss: 0.020\n",
      "epoch 16 loss: 16.312 -> 13.172\n",
      "\n",
      "[ 50] batch loss: 0.021\n",
      "[100] batch loss: 0.025\n",
      "[150] batch loss: 0.022\n",
      "[200] batch loss: 0.021\n",
      "[250] batch loss: 0.018\n",
      "[300] batch loss: 0.018\n",
      "[350] batch loss: 0.018\n",
      "[400] batch loss: 0.015\n",
      "[450] batch loss: 0.016\n",
      "[500] batch loss: 0.017\n",
      "[550] batch loss: 0.017\n",
      "epoch 17 loss: 13.172 -> 10.758\n",
      "\n",
      "[ 50] batch loss: 0.018\n",
      "[100] batch loss: 0.022\n",
      "[150] batch loss: 0.018\n",
      "[200] batch loss: 0.016\n",
      "[250] batch loss: 0.014\n",
      "[300] batch loss: 0.015\n",
      "[350] batch loss: 0.015\n",
      "[400] batch loss: 0.013\n",
      "[450] batch loss: 0.012\n",
      "[500] batch loss: 0.013\n",
      "[550] batch loss: 0.014\n",
      "epoch 18 loss: 10.758 -> 8.815\n",
      "\n",
      "[ 50] batch loss: 0.014\n",
      "[100] batch loss: 0.019\n",
      "[150] batch loss: 0.015\n",
      "[200] batch loss: 0.014\n",
      "[250] batch loss: 0.012\n",
      "[300] batch loss: 0.012\n",
      "[350] batch loss: 0.012\n",
      "[400] batch loss: 0.011\n",
      "[450] batch loss: 0.010\n",
      "[500] batch loss: 0.011\n",
      "[550] batch loss: 0.012\n",
      "epoch 19 loss: 8.815 -> 7.284\n",
      "\n",
      "[ 50] batch loss: 0.010\n",
      "[100] batch loss: 0.015\n",
      "[150] batch loss: 0.013\n",
      "[200] batch loss: 0.011\n",
      "[250] batch loss: 0.010\n",
      "[300] batch loss: 0.010\n",
      "[350] batch loss: 0.010\n",
      "[400] batch loss: 0.009\n",
      "[450] batch loss: 0.008\n",
      "[500] batch loss: 0.008\n",
      "[550] batch loss: 0.010\n",
      "epoch 20 loss: 7.284 -> 5.935\n",
      "\n"
     ]
    }
   ],
   "source": [
    "%%skip $load_model\n",
    "\n",
    "prev_loss = np.float(\"inf\")\n",
    "total_epoch = 20\n",
    "reset(cnn_svhn)\n",
    "\n",
    "for epoch in range(total_epoch):\n",
    "    epoch_loss = 0.0\n",
    "    running_loss = 0.0\n",
    "    p = epoch * 1.0 / total_epoch\n",
    "    adjust_lr(optimizer, p)\n",
    "    for i, data in enumerate(trainloader_svhn):\n",
    "        inputs, labels = data\n",
    "        if (use_gpu):\n",
    "            inputs, labels = inputs.cuda(), labels.cuda()\n",
    "        inputs, labels = Variable(inputs), Variable(labels)\n",
    "        optimizer.zero_grad()\n",
    "        outputs, _, _ = cnn_svhn(inputs)\n",
    "        loss = criterion(outputs, labels)\n",
    "        loss.backward()\n",
    "        optimizer.step()\n",
    "        epoch_loss += loss.item()\n",
    "        running_loss += loss.item()\n",
    "        if i % 50 == 49:    # print every 50 mini-batches\n",
    "            print('[%3d] batch loss: %.3f' %\n",
    "                  (i + 1, running_loss / 50))\n",
    "            running_loss = 0.0\n",
    "    print(\"epoch %d loss: %.3f -> %.3f\\n\" % (epoch + 1, prev_loss, epoch_loss))\n",
    "    if prev_loss - epoch_loss < 0.1:\n",
    "        break\n",
    "    else:\n",
    "        prev_loss = epoch_loss"
   ]
  },
  {
   "cell_type": "code",
   "execution_count": 43,
   "metadata": {},
   "outputs": [],
   "source": [
    "%%skip $load_model\n",
    "\n",
    "torch.save(cnn_svhn.state_dict(), para_file)"
   ]
  },
  {
   "cell_type": "markdown",
   "metadata": {
    "colab_type": "text",
    "id": "5oBeLwnRLrcY"
   },
   "source": [
    "## Testing on SVHN"
   ]
  },
  {
   "cell_type": "code",
   "execution_count": 12,
   "metadata": {},
   "outputs": [],
   "source": [
    "def evaluate_accuracy(model, dataloader):\n",
    "    model.eval()\n",
    "    correct = 0\n",
    "    total = 0\n",
    "    for i, data in enumerate(dataloader):\n",
    "        inputs, labels = data\n",
    "        if (use_gpu):\n",
    "            inputs, labels = inputs.cuda(), labels.cuda()\n",
    "        with torch.no_grad():\n",
    "            #inputs, labels = Variable(inputs, volatile=True), Variable(labels, volatile=True)\n",
    "            inputs, labels = Variable(inputs), Variable(labels)\n",
    "            outputs, _, _ = model(inputs)\n",
    "            correct += (torch.max(outputs.data, 1)[1] == labels.data).sum().item()\n",
    "            total += labels.size()[0]\n",
    "    acc = correct * 1.0 / total\n",
    "    return acc"
   ]
  },
  {
   "cell_type": "code",
   "execution_count": 41,
   "metadata": {
    "colab": {
     "autoexec": {
      "startup": false,
      "wait_interval": 0
     },
     "base_uri": "https://localhost:8080/",
     "height": 35
    },
    "colab_type": "code",
    "executionInfo": {
     "elapsed": 1632,
     "status": "ok",
     "timestamp": 1523144440407,
     "user": {
      "displayName": "Yuan Qi",
      "photoUrl": "//lh6.googleusercontent.com/--bd6SE8_hDo/AAAAAAAAAAI/AAAAAAAAAE0/J27oawL5omk/s50-c-k-no/photo.jpg",
      "userId": "112219197582513023329"
     },
     "user_tz": 420
    },
    "id": "Rn4sOe0iLuKI",
    "outputId": "f31ce94e-ef18-4564-9772-a3a9b22c1272"
   },
   "outputs": [
    {
     "name": "stdout",
     "output_type": "stream",
     "text": [
      "Accuracy on MNIST test set (source only): 0.9085356484326982\n"
     ]
    }
   ],
   "source": [
    "print(\"Accuracy on SVHN test set (source only): \" + str(evaluate_accuracy(cnn_svhn, testloader_svhn)))"
   ]
  },
  {
   "cell_type": "markdown",
   "metadata": {},
   "source": [
    "# MNIST Dataset"
   ]
  },
  {
   "cell_type": "code",
   "execution_count": 14,
   "metadata": {},
   "outputs": [],
   "source": [
    "batch_size = 128\n",
    "root_dir = \"./data/mnist/\"\n",
    "\n",
    "transform = transforms.Compose([\n",
    "    transforms.Resize((32, 32)),\n",
    "    transforms.ToTensor(),\n",
    "    transforms.Normalize((0.5, ), (0.5, )),\n",
    "    #transforms.Normalize((0.13066047712053577, ), (1, )),\n",
    "    transforms.Lambda(lambda x: torch.cat((x, x, x), dim=0))\n",
    "])\n",
    "\n",
    "trainset = torchvision.datasets.MNIST(root_dir, train=True, transform=transform,\n",
    "                                      target_transform=None, download=True)\n",
    "trainloader = torch.utils.data.DataLoader(trainset, batch_size=batch_size,\n",
    "                                          shuffle=False, num_workers=0)\n",
    "testset = torchvision.datasets.MNIST(root_dir, train=False, transform=transform,\n",
    "                                      target_transform=None, download=True)\n",
    "testloader = torch.utils.data.DataLoader(testset, batch_size=batch_size,\n",
    "                                          shuffle=False, num_workers=0)"
   ]
  },
  {
   "cell_type": "code",
   "execution_count": 15,
   "metadata": {
    "scrolled": false
   },
   "outputs": [
    {
     "name": "stdout",
     "output_type": "stream",
     "text": [
      "The 17th image in the first 128 images in the training set:\n"
     ]
    },
    {
     "data": {
      "image/png": "[encoded data removed]",
      "text/plain": [
       "<Figure size 72x72 with 1 Axes>"
      ]
     },
     "metadata": {},
     "output_type": "display_data"
    },
    {
     "name": "stdout",
     "output_type": "stream",
     "text": [
      "Its correspondent label:\n",
      "tensor(8)\n"
     ]
    }
   ],
   "source": [
    "# randomly plot a sample from training set\n",
    "\n",
    "inputs = None\n",
    "labels = None\n",
    "for i, data in enumerate(trainloader):\n",
    "    inputs, labels = data\n",
    "    break\n",
    "    \n",
    "idx = np.random.randint(0, batch_size)\n",
    "print(\"The \" + str(idx) + \"th image in the first \" + str(batch_size) +\\\n",
    "      \" images in the training set:\")\n",
    "\n",
    "plt_img = convert_to_plt(inputs[idx].permute(1, 2, 0).cpu().data.numpy())\n",
    "plt.figure(figsize=(1,1))\n",
    "plt.axis(\"off\")\n",
    "plt.imshow(plt_img)\n",
    "plt.show()\n",
    "print(\"Its correspondent label:\\n\" + str(labels[idx]))"
   ]
  },
  {
   "cell_type": "markdown",
   "metadata": {},
   "source": [
    "## Testing on MNIST-M Dataset (trained on source only)"
   ]
  },
  {
   "cell_type": "code",
   "execution_count": 42,
   "metadata": {
    "scrolled": true
   },
   "outputs": [
    {
     "name": "stdout",
     "output_type": "stream",
     "text": [
      "Accuracy on MNIST-M test set (source only): 0.6043\n"
     ]
    }
   ],
   "source": [
    "print(\"Accuracy on MNIST-M test set (source only): \" + str(evaluate_accuracy(cnn_svhn, testloader)))"
   ]
  },
  {
   "cell_type": "markdown",
   "metadata": {},
   "source": [
    "## Visualization"
   ]
  },
  {
   "cell_type": "code",
   "execution_count": 17,
   "metadata": {},
   "outputs": [],
   "source": [
    "from sklearn import manifold\n",
    "\n",
    "def extract_features(model, dataloader):\n",
    "    model.eval()\n",
    "    features = None\n",
    "    lasthidden = None\n",
    "    labels = None\n",
    "    for i, data in enumerate(dataloader):\n",
    "        inputs, labels_ = data\n",
    "        if (use_gpu):\n",
    "            inputs = inputs.cuda()\n",
    "        with torch.no_grad():\n",
    "            inputs = Variable(inputs, requires_grad=False)\n",
    "            _, f, l = model(inputs)\n",
    "            if i == 0:\n",
    "                features = f\n",
    "                lasthidden = l\n",
    "                labels = labels_\n",
    "            else:\n",
    "                features = torch.cat((features, f))\n",
    "                lasthidden = torch.cat((lasthidden, l))\n",
    "                labels = torch.cat((labels, labels_))\n",
    "    features = features.data\n",
    "    lasthidden = lasthidden.data\n",
    "    if use_gpu:\n",
    "        features = features.cpu()\n",
    "        lasthidden = lasthidden.cpu()\n",
    "    return features, lasthidden, labels\n",
    "\n",
    "def visualize_single_dataset(data, labels, perplexity=50, sample_num=None):\n",
    "    total_num = labels.shape[0]\n",
    "    if sample_num:\n",
    "        idx = np.random.choice(total_num, sample_num, replace=False)\n",
    "        data, labels = data[idx, :], labels[idx]\n",
    "        total_num = sample_num\n",
    "    tsne = manifold.TSNE(n_components=2, init='random',\n",
    "                     random_state=0, perplexity=perplexity)\n",
    "    X = tsne.fit_transform(data)\n",
    "    colors = [\"red\", \"orange\", \"goldenrod\", \"yellow\", \"yellowgreen\", \"green\", \"teal\", \"blue\", \"violet\", \"purple\"]\n",
    "    for i in range(10):\n",
    "        plt.scatter(X[labels == i, 0], X[labels == i, 1], c=colors[i], alpha=0.4)\n",
    "    plt.axis(\"off\")\n",
    "    \n",
    "def visualize_da(source, target, perplexity=50, sample_num=None, save=None):\n",
    "    source_num = source.shape[0]\n",
    "    target_num = target.shape[0]\n",
    "    if sample_num:\n",
    "        source, target = source[:sample_num, :], target[:sample_num, :]\n",
    "        \n",
    "    data = np.vstack((source, target))\n",
    "\n",
    "    tsne = manifold.TSNE(n_components=2, init='random',\n",
    "                         random_state=0, perplexity=perplexity)\n",
    "    X = tsne.fit_transform(data)\n",
    "    plt.scatter(X[:sample_num, 0], X[:sample_num, 1], c=\"blue\", edgecolors=None, alpha=0.4)\n",
    "    plt.scatter(X[sample_num:, 0], X[sample_num:, 1], c=\"red\", edgecolors=None, alpha=0.4)\n",
    "    plt.axis(\"off\")\n",
    "    if save:\n",
    "        plt.savefig(save)\n",
    "    plt.show()\n",
    "    plt.clf()\n",
    "    plt.close()"
   ]
  },
  {
   "cell_type": "code",
   "execution_count": 17,
   "metadata": {},
   "outputs": [],
   "source": [
    "f_svhn, lh_svhn, l_svhn = extract_features(cnn_svhn, testloader_svhn)\n",
    "f, lh, l = extract_features(cnn_svhn, testloader)"
   ]
  },
  {
   "cell_type": "markdown",
   "metadata": {},
   "source": [
    "### Features of SVHN test set (extracted by source only model)"
   ]
  },
  {
   "cell_type": "code",
   "execution_count": 18,
   "metadata": {},
   "outputs": [
    {
     "data": {
      "image/png": "[encoded data removed]",
      "text/plain": [
       "<Figure size 432x288 with 1 Axes>"
      ]
     },
     "metadata": {},
     "output_type": "display_data"
    }
   ],
   "source": [
    "visualize_single_dataset(f_svhn.numpy(), l_svhn.numpy(), perplexity=50, sample_num=1000)"
   ]
  },
  {
   "cell_type": "markdown",
   "metadata": {},
   "source": [
    "### Features of MNIST test set (extracted by source only model)"
   ]
  },
  {
   "cell_type": "code",
   "execution_count": 19,
   "metadata": {
    "scrolled": true
   },
   "outputs": [
    {
     "data": {
      "image/png": "[encoded data removed]",
      "text/plain": [
       "<Figure size 432x288 with 1 Axes>"
      ]
     },
     "metadata": {},
     "output_type": "display_data"
    }
   ],
   "source": [
    "visualize_single_dataset(f.numpy(), l.numpy(), perplexity=50, sample_num=1000)"
   ]
  },
  {
   "cell_type": "markdown",
   "metadata": {},
   "source": [
    "### Last hidden layer of SVHN test set (extracted by source only model)"
   ]
  },
  {
   "cell_type": "code",
   "execution_count": 20,
   "metadata": {},
   "outputs": [
    {
     "data": {
      "image/png": "[encoded data removed]",
      "text/plain": [
       "<Figure size 432x288 with 1 Axes>"
      ]
     },
     "metadata": {},
     "output_type": "display_data"
    }
   ],
   "source": [
    "visualize_da(f_svhn.numpy(), f.numpy(), perplexity=50, sample_num=500,\n",
    "             save=\"./pics/SVHN_to_MNIST_features_NonAdapted.svg\")"
   ]
  },
  {
   "cell_type": "markdown",
   "metadata": {},
   "source": [
    "### Last hidden layer of MNIST test set (extracted by source only model)"
   ]
  },
  {
   "cell_type": "code",
   "execution_count": 21,
   "metadata": {},
   "outputs": [
    {
     "data": {
      "image/png": "[encoded data removed]",
      "text/plain": [
       "<Figure size 432x288 with 1 Axes>"
      ]
     },
     "metadata": {},
     "output_type": "display_data"
    }
   ],
   "source": [
    "visualize_da(lh_svhn.numpy(), lh.numpy(), perplexity=50, sample_num=500,\n",
    "             save=\"./pics/SVHN_to_MNIST_lasthidden_NonAdapted.svg\")"
   ]
  },
  {
   "cell_type": "markdown",
   "metadata": {},
   "source": [
    "## Training on MNIST Dataset"
   ]
  },
  {
   "cell_type": "code",
   "execution_count": 18,
   "metadata": {},
   "outputs": [
    {
     "name": "stdout",
     "output_type": "stream",
     "text": [
      "CNN(\n",
      "  (C1): Conv2d(3, 96, kernel_size=(5, 5), stride=(1, 1), padding=(2, 2))\n",
      "  (C2): Conv2d(96, 144, kernel_size=(3, 3), stride=(1, 1), padding=(1, 1))\n",
      "  (C3): Conv2d(144, 256, kernel_size=(5, 5), stride=(1, 1), padding=(2, 2))\n",
      "  (FC1): Linear(in_features=4096, out_features=512, bias=True)\n",
      "  (FC2): Linear(in_features=512, out_features=10, bias=True)\n",
      ")\n"
     ]
    }
   ],
   "source": [
    "cnn = CNN()\n",
    "if (use_gpu):\n",
    "    cnn.cuda()\n",
    "print(cnn)"
   ]
  },
  {
   "cell_type": "code",
   "execution_count": 19,
   "metadata": {},
   "outputs": [
    {
     "name": "stdout",
     "output_type": "stream",
     "text": [
      "load_model = True\n"
     ]
    }
   ],
   "source": [
    "para_file = \"./parameters/cnn3_mnist.pt\"\n",
    "load_model = os.path.isfile(para_file)\n",
    "print(\"load_model = \" + str(load_model))"
   ]
  },
  {
   "cell_type": "code",
   "execution_count": 20,
   "metadata": {},
   "outputs": [],
   "source": [
    "%%skip (not $load_model)\n",
    "cnn.load_state_dict(torch.load(para_file))"
   ]
  },
  {
   "cell_type": "code",
   "execution_count": 21,
   "metadata": {},
   "outputs": [],
   "source": [
    "import torch.optim as optim\n",
    "\n",
    "lr_init = 0.01\n",
    "criterion = nn.CrossEntropyLoss()\n",
    "optimizer = optim.SGD(cnn.parameters(), lr=lr_init, momentum=0.9)\n",
    "\n",
    "def adjust_lr(optimizer, p):\n",
    "    global lr_init\n",
    "    lr_0 = lr_init\n",
    "    alpha = 10\n",
    "    beta = 0.75\n",
    "    lr = lr_0 / (1 + alpha * p) ** beta\n",
    "    for param_group in optimizer.param_groups:\n",
    "        param_group['lr'] = lr"
   ]
  },
  {
   "cell_type": "code",
   "execution_count": 27,
   "metadata": {
    "scrolled": true
   },
   "outputs": [
    {
     "name": "stdout",
     "output_type": "stream",
     "text": [
      "[ 50] batch loss: 2.179\n",
      "[100] batch loss: 0.737\n",
      "[150] batch loss: 0.230\n",
      "[200] batch loss: 0.124\n",
      "[250] batch loss: 0.124\n",
      "[300] batch loss: 0.101\n",
      "[350] batch loss: 0.105\n",
      "[400] batch loss: 0.107\n",
      "[450] batch loss: 0.064\n",
      "epoch 1 loss: inf -> 189.650\n",
      "\n",
      "[ 50] batch loss: 0.066\n",
      "[100] batch loss: 0.066\n",
      "[150] batch loss: 0.055\n",
      "[200] batch loss: 0.041\n",
      "[250] batch loss: 0.048\n",
      "[300] batch loss: 0.051\n",
      "[350] batch loss: 0.042\n",
      "[400] batch loss: 0.050\n",
      "[450] batch loss: 0.037\n",
      "epoch 2 loss: 189.650 -> 23.489\n",
      "\n",
      "[ 50] batch loss: 0.043\n",
      "[100] batch loss: 0.045\n",
      "[150] batch loss: 0.036\n",
      "[200] batch loss: 0.027\n",
      "[250] batch loss: 0.032\n",
      "[300] batch loss: 0.036\n",
      "[350] batch loss: 0.028\n",
      "[400] batch loss: 0.033\n",
      "[450] batch loss: 0.027\n",
      "epoch 3 loss: 23.489 -> 15.893\n",
      "\n",
      "[ 50] batch loss: 0.032\n",
      "[100] batch loss: 0.029\n",
      "[150] batch loss: 0.022\n",
      "[200] batch loss: 0.019\n",
      "[250] batch loss: 0.024\n",
      "[300] batch loss: 0.027\n",
      "[350] batch loss: 0.022\n",
      "[400] batch loss: 0.024\n",
      "[450] batch loss: 0.021\n",
      "epoch 4 loss: 15.893 -> 11.613\n",
      "\n",
      "[ 50] batch loss: 0.024\n",
      "[100] batch loss: 0.021\n",
      "[150] batch loss: 0.016\n",
      "[200] batch loss: 0.014\n",
      "[250] batch loss: 0.019\n",
      "[300] batch loss: 0.022\n",
      "[350] batch loss: 0.018\n",
      "[400] batch loss: 0.020\n",
      "[450] batch loss: 0.016\n",
      "epoch 5 loss: 11.613 -> 9.039\n",
      "\n",
      "[ 50] batch loss: 0.018\n",
      "[100] batch loss: 0.016\n",
      "[150] batch loss: 0.013\n",
      "[200] batch loss: 0.011\n",
      "[250] batch loss: 0.015\n",
      "[300] batch loss: 0.018\n",
      "[350] batch loss: 0.015\n",
      "[400] batch loss: 0.016\n",
      "[450] batch loss: 0.013\n",
      "epoch 6 loss: 9.039 -> 7.119\n",
      "\n",
      "[ 50] batch loss: 0.014\n",
      "[100] batch loss: 0.013\n",
      "[150] batch loss: 0.010\n",
      "[200] batch loss: 0.009\n",
      "[250] batch loss: 0.012\n",
      "[300] batch loss: 0.015\n",
      "[350] batch loss: 0.012\n",
      "[400] batch loss: 0.012\n",
      "[450] batch loss: 0.011\n",
      "epoch 7 loss: 7.119 -> 5.709\n",
      "\n",
      "[ 50] batch loss: 0.012\n",
      "[100] batch loss: 0.010\n",
      "[150] batch loss: 0.007\n",
      "[200] batch loss: 0.007\n",
      "[250] batch loss: 0.010\n",
      "[300] batch loss: 0.012\n",
      "[350] batch loss: 0.010\n",
      "[400] batch loss: 0.010\n",
      "[450] batch loss: 0.009\n",
      "epoch 8 loss: 5.709 -> 4.632\n",
      "\n",
      "[ 50] batch loss: 0.010\n",
      "[100] batch loss: 0.009\n",
      "[150] batch loss: 0.006\n",
      "[200] batch loss: 0.006\n",
      "[250] batch loss: 0.008\n",
      "[300] batch loss: 0.010\n",
      "[350] batch loss: 0.008\n",
      "[400] batch loss: 0.007\n",
      "[450] batch loss: 0.008\n",
      "epoch 9 loss: 4.632 -> 3.797\n",
      "\n",
      "[ 50] batch loss: 0.008\n",
      "[100] batch loss: 0.008\n",
      "[150] batch loss: 0.004\n",
      "[200] batch loss: 0.005\n",
      "[250] batch loss: 0.007\n",
      "[300] batch loss: 0.008\n",
      "[350] batch loss: 0.007\n",
      "[400] batch loss: 0.006\n",
      "[450] batch loss: 0.006\n",
      "epoch 10 loss: 3.797 -> 3.158\n",
      "\n",
      "[ 50] batch loss: 0.006\n",
      "[100] batch loss: 0.007\n",
      "[150] batch loss: 0.003\n",
      "[200] batch loss: 0.004\n",
      "[250] batch loss: 0.006\n",
      "[300] batch loss: 0.007\n",
      "[350] batch loss: 0.006\n",
      "[400] batch loss: 0.005\n",
      "[450] batch loss: 0.005\n",
      "epoch 11 loss: 3.158 -> 2.641\n",
      "\n",
      "[ 50] batch loss: 0.005\n",
      "[100] batch loss: 0.006\n",
      "[150] batch loss: 0.003\n",
      "[200] batch loss: 0.003\n",
      "[250] batch loss: 0.005\n",
      "[300] batch loss: 0.006\n",
      "[350] batch loss: 0.005\n",
      "[400] batch loss: 0.004\n",
      "[450] batch loss: 0.005\n",
      "epoch 12 loss: 2.641 -> 2.238\n",
      "\n",
      "[ 50] batch loss: 0.004\n",
      "[100] batch loss: 0.005\n",
      "[150] batch loss: 0.002\n",
      "[200] batch loss: 0.003\n",
      "[250] batch loss: 0.004\n",
      "[300] batch loss: 0.005\n",
      "[350] batch loss: 0.004\n",
      "[400] batch loss: 0.004\n",
      "[450] batch loss: 0.004\n",
      "epoch 13 loss: 2.238 -> 1.911\n",
      "\n",
      "[ 50] batch loss: 0.004\n",
      "[100] batch loss: 0.004\n",
      "[150] batch loss: 0.002\n",
      "[200] batch loss: 0.002\n",
      "[250] batch loss: 0.004\n",
      "[300] batch loss: 0.004\n",
      "[350] batch loss: 0.003\n",
      "[400] batch loss: 0.003\n",
      "[450] batch loss: 0.003\n",
      "epoch 14 loss: 1.911 -> 1.640\n",
      "\n",
      "[ 50] batch loss: 0.003\n",
      "[100] batch loss: 0.003\n",
      "[150] batch loss: 0.002\n",
      "[200] batch loss: 0.002\n",
      "[250] batch loss: 0.003\n",
      "[300] batch loss: 0.003\n",
      "[350] batch loss: 0.003\n",
      "[400] batch loss: 0.003\n",
      "[450] batch loss: 0.003\n",
      "epoch 15 loss: 1.640 -> 1.420\n",
      "\n",
      "[ 50] batch loss: 0.003\n",
      "[100] batch loss: 0.003\n",
      "[150] batch loss: 0.002\n",
      "[200] batch loss: 0.002\n",
      "[250] batch loss: 0.003\n",
      "[300] batch loss: 0.003\n",
      "[350] batch loss: 0.003\n",
      "[400] batch loss: 0.003\n",
      "[450] batch loss: 0.002\n",
      "epoch 16 loss: 1.420 -> 1.224\n",
      "\n",
      "[ 50] batch loss: 0.002\n",
      "[100] batch loss: 0.002\n",
      "[150] batch loss: 0.002\n",
      "[200] batch loss: 0.002\n",
      "[250] batch loss: 0.003\n",
      "[300] batch loss: 0.002\n",
      "[350] batch loss: 0.002\n",
      "[400] batch loss: 0.002\n",
      "[450] batch loss: 0.002\n",
      "epoch 17 loss: 1.224 -> 1.061\n",
      "\n",
      "[ 50] batch loss: 0.002\n",
      "[100] batch loss: 0.002\n",
      "[150] batch loss: 0.001\n",
      "[200] batch loss: 0.001\n",
      "[250] batch loss: 0.002\n",
      "[300] batch loss: 0.002\n",
      "[350] batch loss: 0.002\n",
      "[400] batch loss: 0.002\n",
      "[450] batch loss: 0.002\n",
      "epoch 18 loss: 1.061 -> 0.931\n",
      "\n",
      "[ 50] batch loss: 0.002\n",
      "[100] batch loss: 0.001\n",
      "[150] batch loss: 0.001\n",
      "[200] batch loss: 0.001\n",
      "[250] batch loss: 0.002\n",
      "[300] batch loss: 0.002\n",
      "[350] batch loss: 0.002\n",
      "[400] batch loss: 0.002\n",
      "[450] batch loss: 0.002\n",
      "epoch 19 loss: 0.931 -> 0.825\n",
      "\n",
      "[ 50] batch loss: 0.001\n",
      "[100] batch loss: 0.001\n",
      "[150] batch loss: 0.001\n",
      "[200] batch loss: 0.001\n",
      "[250] batch loss: 0.002\n",
      "[300] batch loss: 0.002\n",
      "[350] batch loss: 0.002\n",
      "[400] batch loss: 0.002\n",
      "[450] batch loss: 0.002\n",
      "epoch 20 loss: 0.825 -> 0.735\n",
      "\n"
     ]
    }
   ],
   "source": [
    "%%skip $load_model\n",
    "\n",
    "prev_loss = np.float(\"inf\")\n",
    "total_epoch = 50\n",
    "\n",
    "for epoch in range(total_epoch):\n",
    "    epoch_loss = 0.0\n",
    "    running_loss = 0.0\n",
    "    p = epoch * 1.0 / total_epoch\n",
    "    adjust_lr(optimizer, p)\n",
    "    for i, data in enumerate(trainloader):\n",
    "        inputs, labels = data\n",
    "        if (use_gpu):\n",
    "            inputs, labels = inputs.cuda(), labels.cuda()\n",
    "        \n",
    "        \n",
    "        inputs, labels = Variable(inputs), Variable(labels)\n",
    "        optimizer.zero_grad()\n",
    "        outputs, _, _ = cnn(inputs)\n",
    "        loss = criterion(outputs, labels)\n",
    "        \n",
    "        loss.backward()\n",
    "        optimizer.step()\n",
    "        epoch_loss += loss.item()\n",
    "        running_loss += loss.item()\n",
    "        if i % 50 == 49:    # print every 50 mini-batches\n",
    "            print('[%3d] batch loss: %.3f' %\n",
    "                  (i + 1, running_loss / 50))\n",
    "            running_loss = 0.0\n",
    "    print(\"epoch %d loss: %.3f -> %.3f\\n\" % (epoch + 1, prev_loss, epoch_loss))\n",
    "    if prev_loss - epoch_loss < 0.1:\n",
    "        prev_loss = epoch_loss\n",
    "        break\n",
    "    else:\n",
    "        prev_loss = epoch_loss"
   ]
  },
  {
   "cell_type": "code",
   "execution_count": 28,
   "metadata": {},
   "outputs": [],
   "source": [
    "%%skip $load_model\n",
    "\n",
    "torch.save(cnn.state_dict(), para_file)"
   ]
  },
  {
   "cell_type": "code",
   "execution_count": 22,
   "metadata": {},
   "outputs": [
    {
     "name": "stdout",
     "output_type": "stream",
     "text": [
      "Accuracy on MNIST-M test set (train on target): 0.9929\n"
     ]
    }
   ],
   "source": [
    "print(\"Accuracy on MNIST-M test set (train on target): \" + str(evaluate_accuracy(cnn, testloader)))"
   ]
  },
  {
   "cell_type": "markdown",
   "metadata": {},
   "source": [
    "# Unsupervised Domain Adaptation\n",
    "\n",
    "## Structure (GRL)"
   ]
  },
  {
   "cell_type": "code",
   "execution_count": 23,
   "metadata": {},
   "outputs": [],
   "source": [
    "from my_dataset import ST_Dataset"
   ]
  },
  {
   "cell_type": "code",
   "execution_count": 24,
   "metadata": {},
   "outputs": [],
   "source": [
    "batch_size = 128\n",
    "\n",
    "trainset_da = ST_Dataset(trainset_svhn, trainset, batch_size)\n",
    "trainloader_da = torch.utils.data.DataLoader(trainset_da, batch_size=batch_size,\n",
    "                                          shuffle=False, num_workers=0)"
   ]
  },
  {
   "cell_type": "code",
   "execution_count": 25,
   "metadata": {},
   "outputs": [
    {
     "name": "stdout",
     "output_type": "stream",
     "text": [
      "The 48th image in the first 128 images in the training set:\n"
     ]
    },
    {
     "data": {
      "image/png": "[encoded data removed]",
      "text/plain": [
       "<Figure size 72x72 with 1 Axes>"
      ]
     },
     "metadata": {},
     "output_type": "display_data"
    },
    {
     "name": "stdout",
     "output_type": "stream",
     "text": [
      "Its correspondent label:\n",
      "2\n",
      "\n",
      "From domain:\n",
      "Source\n"
     ]
    }
   ],
   "source": [
    "# randomly plot a sample from test set\n",
    "\n",
    "inputs = None\n",
    "labels = None\n",
    "for i, data in enumerate(trainloader_da):\n",
    "    inputs, labels, domain = data\n",
    "    if i == 2:\n",
    "        break\n",
    "\n",
    "idx = np.random.randint(0, batch_size)\n",
    "print(\"The \" + str(idx) + \"th image in the first \" + str(batch_size) +\\\n",
    "      \" images in the training set:\")\n",
    "plt_img = convert_to_plt(inputs[idx].permute(1, 2, 0).cpu().data.numpy())\n",
    "plt.figure(figsize=(1,1))\n",
    "plt.axis(\"off\")\n",
    "plt.imshow(plt_img)\n",
    "plt.show()\n",
    "print(\"Its correspondent label:\")\n",
    "if labels[idx].item() == -1:\n",
    "    print(\"I don't know :)\\n\")\n",
    "else:\n",
    "    print(str(labels[idx].item()) + \"\\n\")\n",
    "\n",
    "print(\"From domain:\")\n",
    "if domain[idx].item() == 0:\n",
    "    print(\"Source\")\n",
    "else:\n",
    "    print(\"Target\")"
   ]
  },
  {
   "cell_type": "code",
   "execution_count": 26,
   "metadata": {},
   "outputs": [],
   "source": [
    "class GRL_func(torch.autograd.Function):\n",
    "\n",
    "    @staticmethod\n",
    "    def forward(ctx, inputs, lamda):\n",
    "        ctx.save_for_backward(lamda)\n",
    "        return inputs\n",
    "\n",
    "    @staticmethod\n",
    "    def backward(ctx, grad_outputs):\n",
    "        lamda, = ctx.saved_tensors\n",
    "        return -lamda * grad_outputs, None"
   ]
  },
  {
   "cell_type": "code",
   "execution_count": 27,
   "metadata": {},
   "outputs": [],
   "source": [
    "class GRL(nn.Module):\n",
    "    \n",
    "    def __init__(self, lamda_init):\n",
    "        super(GRL, self).__init__()\n",
    "        self.GRL_func = GRL_func.apply\n",
    "        self.lamda = nn.Parameter(torch.Tensor(1), requires_grad=False)\n",
    "        self.set_lamda(lamda_init)\n",
    "        \n",
    "    def forward(self, x):\n",
    "        return self.GRL_func(x, self.lamda)\n",
    "    \n",
    "    def set_lamda(self, lamda_new):\n",
    "        self.lamda[0] = lamda_new"
   ]
  },
  {
   "cell_type": "markdown",
   "metadata": {},
   "source": [
    "![SVHN-MNIST Structure](https://c1.staticflickr.com/1/945/41945025492_f9db7ac20a_o.png)"
   ]
  },
  {
   "cell_type": "code",
   "execution_count": 28,
   "metadata": {},
   "outputs": [],
   "source": [
    "class CNN_DA(nn.Module):\n",
    "    \n",
    "    def __init__(self, lamda_init=0):\n",
    "        super(CNN_DA, self).__init__()\n",
    "        # lamda\n",
    "        self.lamda = lamda_init\n",
    "        # feature extractor\n",
    "        self.C1 = nn.Conv2d(3, 96, kernel_size=5, padding=2)\n",
    "        self.C2 = nn.Conv2d(96, 144, kernel_size=5, padding=2)\n",
    "        self.C3 = nn.Conv2d(144, 256, kernel_size=5, padding=2)\n",
    "        # label classifier\n",
    "        self.LC_FC1 = nn.Linear(256 * 4 * 4, 512)\n",
    "        self.LC_FC2 = nn.Linear(512, 10)\n",
    "        # domain classifier\n",
    "        self.GRL_layer = GRL(lamda_init)\n",
    "        self.DC_FC1 = nn.Linear(256 * 4 * 4, 1024)\n",
    "        self.DC_FC2 = nn.Linear(1024, 1024)\n",
    "        self.DC_FC3 = nn.Linear(1024, 1)\n",
    "        \n",
    "    def forward(self, x):\n",
    "        # C1\n",
    "        x = F.relu(self.C1(x))\n",
    "        # M1\n",
    "        x = F.max_pool2d(x, (2, 2), stride=(2, 2))\n",
    "        # C2\n",
    "        x = F.relu(self.C2(x))\n",
    "        # M2\n",
    "        x = F.max_pool2d(x, (2, 2), stride=(2, 2))\n",
    "        # C3\n",
    "        x = F.relu(self.C3(x))\n",
    "        # M3\n",
    "        x = F.max_pool2d(x, (2, 2), stride=(2, 2))\n",
    "        # x's size is (128, 256, 4, 4)\n",
    "        # flatten\n",
    "        x = x.view(-1, 256 * 4 * 4)\n",
    "        f = x\n",
    "        # label classifier\n",
    "        # LC_FC1\n",
    "        x_l = F.relu(self.LC_FC1(x))\n",
    "        lh = x_l\n",
    "        # LC_FC2\n",
    "        x_l = self.LC_FC2(x_l)\n",
    "        # domain classifier\n",
    "        # GRL\n",
    "        x_d = self.GRL_layer(x)\n",
    "        # DC_FC1\n",
    "        x_d = F.relu(self.DC_FC1(x_d))\n",
    "        # DC_FC2\n",
    "        x_d = F.relu(self.DC_FC2(x_d))\n",
    "        # DC_FC3\n",
    "        x_d = F.sigmoid(self.DC_FC3(x_d))\n",
    "        return x_l, x_d, f, lh\n",
    "    \n",
    "    def set_lamda(self, lamda_new):\n",
    "        self.GRL_layer.set_lamda(lamda_new)"
   ]
  },
  {
   "cell_type": "code",
   "execution_count": 29,
   "metadata": {},
   "outputs": [],
   "source": [
    "def extract_features_da(model, dataloader):\n",
    "    features = None\n",
    "    lasthidden = None\n",
    "    labels = None\n",
    "    for i, data in enumerate(dataloader):\n",
    "        inputs, labels_ = data\n",
    "        if (use_gpu):\n",
    "            inputs = inputs.cuda()\n",
    "        with torch.no_grad():\n",
    "            inputs = Variable(inputs, requires_grad=False)\n",
    "            _, _, f, l = model(inputs)\n",
    "            if i == 0:\n",
    "                features = f\n",
    "                lasthidden = l\n",
    "                labels = labels_\n",
    "            else:\n",
    "                features = torch.cat((features, f))\n",
    "                lasthidden = torch.cat((lasthidden, l))\n",
    "                labels = torch.cat((labels, labels_))\n",
    "    features = features.data\n",
    "    lasthidden = lasthidden.data\n",
    "    if use_gpu:\n",
    "        features = features.cpu()\n",
    "        lasthidden = lasthidden.cpu()\n",
    "    return features, lasthidden, labels"
   ]
  },
  {
   "cell_type": "code",
   "execution_count": 44,
   "metadata": {},
   "outputs": [
    {
     "name": "stdout",
     "output_type": "stream",
     "text": [
      "CNN_DA(\n",
      "  (C1): Conv2d(3, 96, kernel_size=(5, 5), stride=(1, 1), padding=(2, 2))\n",
      "  (C2): Conv2d(96, 144, kernel_size=(5, 5), stride=(1, 1), padding=(2, 2))\n",
      "  (C3): Conv2d(144, 256, kernel_size=(5, 5), stride=(1, 1), padding=(2, 2))\n",
      "  (LC_FC1): Linear(in_features=4096, out_features=512, bias=True)\n",
      "  (LC_FC2): Linear(in_features=512, out_features=10, bias=True)\n",
      "  (GRL_layer): GRL()\n",
      "  (DC_FC1): Linear(in_features=4096, out_features=1024, bias=True)\n",
      "  (DC_FC2): Linear(in_features=1024, out_features=1024, bias=True)\n",
      "  (DC_FC3): Linear(in_features=1024, out_features=1, bias=True)\n",
      ")\n"
     ]
    }
   ],
   "source": [
    "cnn_da = CNN_DA(0)\n",
    "if (use_gpu):\n",
    "    cnn_da.cuda()\n",
    "print(cnn_da)"
   ]
  },
  {
   "cell_type": "code",
   "execution_count": 31,
   "metadata": {},
   "outputs": [
    {
     "name": "stdout",
     "output_type": "stream",
     "text": [
      "load_model_da = True\n"
     ]
    }
   ],
   "source": [
    "para_file_da = \"./parameters/cnn_svhn_to_mnist.pt\"\n",
    "load_model_da = os.path.isfile(para_file_da)\n",
    "print(\"load_model_da = \" + str(load_model_da))"
   ]
  },
  {
   "cell_type": "code",
   "execution_count": 32,
   "metadata": {},
   "outputs": [],
   "source": [
    "%%skip (not $load_model_da)\n",
    "cnn_da.load_state_dict(torch.load(para_file_da))"
   ]
  },
  {
   "cell_type": "markdown",
   "metadata": {},
   "source": [
    "### Optimizer"
   ]
  },
  {
   "cell_type": "code",
   "execution_count": 50,
   "metadata": {},
   "outputs": [],
   "source": [
    "from math import exp\n",
    "\n",
    "lr_init = 0.01\n",
    "criterion_LC = nn.CrossEntropyLoss()\n",
    "criterion_DC = nn.BCELoss()\n",
    "optimizer = optim.SGD(filter(lambda p: p.requires_grad, cnn_da.parameters()), lr=lr_init, momentum=0.9)\n",
    "\n",
    "def adjust_lr(optimizer, p):\n",
    "    global lr_init\n",
    "    lr_0 = lr_init\n",
    "    alpha = 10\n",
    "    beta = 0.75\n",
    "    lr = lr_0 / (1 + alpha * p) ** beta\n",
    "    for param_group in optimizer.param_groups:\n",
    "        param_group['lr'] = lr\n",
    "    return lr\n",
    "        \n",
    "def adjust_lamda(model, p):\n",
    "    gamma = 10\n",
    "    lamda = 2 / (1 + exp(- gamma * p)) - 1\n",
    "    model.set_lamda(lamda)\n",
    "    return lamda"
   ]
  },
  {
   "cell_type": "markdown",
   "metadata": {},
   "source": [
    "### Training process"
   ]
  },
  {
   "cell_type": "code",
   "execution_count": 51,
   "metadata": {
    "scrolled": true
   },
   "outputs": [
    {
     "name": "stdout",
     "output_type": "stream",
     "text": [
      "[ 50] batch loss: 2.667\n",
      "[100] batch loss: 2.236\n",
      "[150] batch loss: 1.857\n",
      "[200] batch loss: 1.161\n",
      "[250] batch loss: 0.869\n",
      "[300] batch loss: 0.732\n",
      "[350] batch loss: 0.711\n",
      "[400] batch loss: 0.611\n",
      "[450] batch loss: 0.587\n",
      "[500] batch loss: 0.565\n",
      "[550] batch loss: 0.534\n",
      "[600] batch loss: 0.504\n",
      "[650] batch loss: 0.487\n",
      "[700] batch loss: 0.486\n",
      "[750] batch loss: 0.447\n",
      "[800] batch loss: 0.450\n",
      "[850] batch loss: 0.475\n",
      "[900] batch loss: 0.437\n",
      "epoch 1 loss: inf -> 806.050\n",
      "LC loss: inf -> 768.382\n",
      "DC loss: inf -> 37.668\n",
      "Label classifier accuracy on MNIST test set (DA): 0.509900\n",
      "Domain classifier accuracy on MNIST test set (DA): 0.997260\n",
      "\n",
      "[ 50] batch loss: 0.397\n",
      "[100] batch loss: 0.424\n",
      "[150] batch loss: 0.403\n",
      "[200] batch loss: 0.369\n",
      "[250] batch loss: 0.361\n",
      "[300] batch loss: 0.379\n",
      "[350] batch loss: 0.423\n",
      "[400] batch loss: 0.370\n",
      "[450] batch loss: 0.337\n",
      "[500] batch loss: 0.335\n",
      "[550] batch loss: 0.323\n",
      "[600] batch loss: 0.308\n",
      "[650] batch loss: 0.317\n",
      "[700] batch loss: 0.301\n",
      "[750] batch loss: 0.277\n",
      "[800] batch loss: 0.305\n",
      "[850] batch loss: 0.322\n",
      "[900] batch loss: 0.302\n",
      "epoch 2 loss: 806.050 -> 322.430\n",
      "LC loss: 768.382 -> 319.452\n",
      "DC loss: 37.668 -> 2.978\n",
      "Label classifier accuracy on MNIST test set (DA): 0.546000\n",
      "Domain classifier accuracy on MNIST test set (DA): 0.999299\n",
      "\n",
      "[ 50] batch loss: 0.269\n",
      "[100] batch loss: 0.374\n",
      "[150] batch loss: 0.355\n",
      "[200] batch loss: 0.296\n",
      "[250] batch loss: 0.291\n",
      "[300] batch loss: 0.274\n",
      "[350] batch loss: 0.332\n",
      "[400] batch loss: 0.280\n",
      "[450] batch loss: 0.241\n",
      "[500] batch loss: 0.248\n",
      "[550] batch loss: 0.235\n",
      "[600] batch loss: 0.223\n",
      "[650] batch loss: 0.234\n",
      "[700] batch loss: 0.230\n",
      "[750] batch loss: 0.196\n",
      "[800] batch loss: 0.210\n",
      "[850] batch loss: 0.238\n",
      "[900] batch loss: 0.233\n",
      "epoch 3 loss: 322.430 -> 244.957\n",
      "LC loss: 319.452 -> 231.446\n",
      "DC loss: 2.978 -> 13.511\n",
      "Label classifier accuracy on MNIST test set (DA): 0.591500\n",
      "Domain classifier accuracy on MNIST test set (DA): 0.997935\n",
      "\n",
      "[ 50] batch loss: 0.195\n",
      "[100] batch loss: 0.231\n",
      "[150] batch loss: 0.230\n",
      "[200] batch loss: 0.211\n",
      "[250] batch loss: 0.198\n",
      "[300] batch loss: 0.190\n",
      "[350] batch loss: 0.258\n",
      "[400] batch loss: 0.204\n",
      "[450] batch loss: 0.181\n",
      "[500] batch loss: 0.177\n",
      "[550] batch loss: 0.158\n",
      "[600] batch loss: 0.156\n",
      "[650] batch loss: 0.167\n",
      "[700] batch loss: 0.164\n",
      "[750] batch loss: 0.147\n",
      "[800] batch loss: 0.143\n",
      "[850] batch loss: 0.167\n",
      "[900] batch loss: 0.158\n",
      "epoch 4 loss: 244.957 -> 171.360\n",
      "LC loss: 231.446 -> 164.725\n",
      "DC loss: 13.511 -> 6.635\n",
      "Label classifier accuracy on MNIST test set (DA): 0.593100\n",
      "Domain classifier accuracy on MNIST test set (DA): 0.997702\n",
      "\n",
      "[ 50] batch loss: 0.138\n",
      "[100] batch loss: 0.171\n",
      "[150] batch loss: 0.166\n",
      "[200] batch loss: 0.164\n",
      "[250] batch loss: 0.138\n",
      "[300] batch loss: 0.129\n",
      "[350] batch loss: 0.195\n",
      "[400] batch loss: 0.141\n",
      "[450] batch loss: 0.134\n",
      "[500] batch loss: 0.132\n",
      "[550] batch loss: 0.115\n",
      "[600] batch loss: 0.122\n",
      "[650] batch loss: 0.111\n",
      "[700] batch loss: 0.131\n",
      "[750] batch loss: 0.103\n",
      "[800] batch loss: 0.111\n",
      "[850] batch loss: 0.119\n",
      "[900] batch loss: 0.116\n",
      "epoch 5 loss: 171.360 -> 125.754\n",
      "LC loss: 164.725 -> 120.004\n",
      "DC loss: 6.635 -> 5.751\n",
      "Label classifier accuracy on MNIST test set (DA): 0.637000\n",
      "Domain classifier accuracy on MNIST test set (DA): 0.998546\n",
      "\n",
      "[ 50] batch loss: 0.102\n",
      "[100] batch loss: 0.136\n",
      "[150] batch loss: 0.134\n",
      "[200] batch loss: 0.112\n",
      "[250] batch loss: 0.106\n",
      "[300] batch loss: 0.108\n",
      "[350] batch loss: 0.137\n",
      "[400] batch loss: 0.123\n",
      "[450] batch loss: 0.107\n",
      "[500] batch loss: 0.101\n",
      "[550] batch loss: 0.090\n",
      "[600] batch loss: 0.085\n",
      "[650] batch loss: 0.079\n",
      "[700] batch loss: 0.094\n",
      "[750] batch loss: 0.070\n",
      "[800] batch loss: 0.089\n",
      "[850] batch loss: 0.083\n",
      "[900] batch loss: 0.106\n",
      "epoch 6 loss: 125.754 -> 96.243\n",
      "LC loss: 120.004 -> 93.856\n",
      "DC loss: 5.751 -> 2.386\n",
      "Label classifier accuracy on MNIST test set (DA): 0.627700\n",
      "Domain classifier accuracy on MNIST test set (DA): 0.987179\n",
      "\n",
      "[ 50] batch loss: 0.074\n",
      "[100] batch loss: 0.098\n",
      "[150] batch loss: 0.102\n",
      "[200] batch loss: 0.083\n",
      "[250] batch loss: 0.070\n",
      "[300] batch loss: 0.099\n",
      "[350] batch loss: 0.090\n",
      "[400] batch loss: 0.101\n",
      "[450] batch loss: 0.084\n",
      "[500] batch loss: 0.077\n",
      "[550] batch loss: 0.062\n",
      "[600] batch loss: 0.067\n",
      "[650] batch loss: 0.068\n",
      "[700] batch loss: 0.057\n",
      "[750] batch loss: 0.059\n",
      "[800] batch loss: 0.062\n",
      "[850] batch loss: 0.062\n",
      "[900] batch loss: 0.052\n",
      "epoch 7 loss: 96.243 -> 71.468\n",
      "LC loss: 93.856 -> 69.443\n",
      "DC loss: 2.386 -> 2.025\n",
      "Label classifier accuracy on MNIST test set (DA): 0.621900\n",
      "Domain classifier accuracy on MNIST test set (DA): 0.995967\n",
      "\n",
      "[ 50] batch loss: 0.056\n",
      "[100] batch loss: 0.072\n",
      "[150] batch loss: 0.118\n",
      "[200] batch loss: 0.074\n",
      "[250] batch loss: 0.069\n",
      "[300] batch loss: 0.069\n",
      "[350] batch loss: 0.082\n",
      "[400] batch loss: 0.079\n",
      "[450] batch loss: 0.062\n",
      "[500] batch loss: 0.072\n",
      "[550] batch loss: 0.068\n",
      "[600] batch loss: 0.061\n",
      "[650] batch loss: 0.060\n",
      "[700] batch loss: 0.070\n",
      "[750] batch loss: 0.046\n",
      "[800] batch loss: 0.047\n",
      "[850] batch loss: 0.098\n",
      "[900] batch loss: 0.063\n",
      "epoch 8 loss: 71.468 -> 65.735\n",
      "LC loss: 69.443 -> 62.415\n",
      "DC loss: 2.025 -> 3.320\n",
      "Label classifier accuracy on MNIST test set (DA): 0.656200\n",
      "Domain classifier accuracy on MNIST test set (DA): 0.999473\n",
      "\n",
      "[ 50] batch loss: 0.046\n",
      "[100] batch loss: 0.068\n",
      "[150] batch loss: 0.078\n",
      "[200] batch loss: 0.057\n",
      "[250] batch loss: 0.060\n",
      "[300] batch loss: 0.063\n",
      "[350] batch loss: 0.060\n",
      "[400] batch loss: 0.050\n",
      "[450] batch loss: 0.051\n",
      "[500] batch loss: 0.059\n",
      "[550] batch loss: 0.046\n",
      "[600] batch loss: 0.062\n",
      "[650] batch loss: 0.051\n",
      "[700] batch loss: 0.049\n",
      "[750] batch loss: 0.048\n",
      "[800] batch loss: 0.036\n",
      "[850] batch loss: 0.062\n",
      "[900] batch loss: 0.050\n",
      "epoch 9 loss: 65.735 -> 51.372\n",
      "LC loss: 62.415 -> 48.899\n",
      "DC loss: 3.320 -> 2.473\n",
      "Label classifier accuracy on MNIST test set (DA): 0.623000\n",
      "Domain classifier accuracy on MNIST test set (DA): 0.998330\n",
      "\n",
      "[ 50] batch loss: 0.044\n",
      "[100] batch loss: 0.067\n",
      "[150] batch loss: 0.071\n",
      "[200] batch loss: 0.053\n",
      "[250] batch loss: 0.044\n",
      "[300] batch loss: 0.037\n",
      "[350] batch loss: 0.055\n",
      "[400] batch loss: 0.047\n",
      "[450] batch loss: 0.041\n",
      "[500] batch loss: 0.062\n",
      "[550] batch loss: 0.054\n",
      "[600] batch loss: 0.036\n",
      "[650] batch loss: 0.047\n",
      "[700] batch loss: 0.034\n",
      "[750] batch loss: 0.060\n",
      "[800] batch loss: 0.058\n",
      "[850] batch loss: 0.057\n",
      "[900] batch loss: 0.044\n",
      "epoch 10 loss: 51.372 -> 47.214\n",
      "LC loss: 48.899 -> 45.144\n",
      "DC loss: 2.473 -> 2.070\n",
      "Label classifier accuracy on MNIST test set (DA): 0.641400\n",
      "Domain classifier accuracy on MNIST test set (DA): 0.999112\n",
      "\n",
      "[ 50] batch loss: 0.035\n",
      "[100] batch loss: 0.031\n",
      "[150] batch loss: 0.051\n",
      "[200] batch loss: 0.054\n",
      "[250] batch loss: 0.046\n",
      "[300] batch loss: 0.035\n",
      "[350] batch loss: 0.051\n",
      "[400] batch loss: 0.032\n",
      "[450] batch loss: 0.035\n",
      "[500] batch loss: 0.033\n",
      "[550] batch loss: 0.031\n",
      "[600] batch loss: 0.051\n",
      "[650] batch loss: 0.060\n",
      "[700] batch loss: 0.033\n",
      "[750] batch loss: 0.029\n",
      "[800] batch loss: 0.021\n",
      "[850] batch loss: 0.040\n",
      "[900] batch loss: 0.039\n",
      "epoch 11 loss: 47.214 -> 36.862\n",
      "LC loss: 45.144 -> 34.753\n",
      "DC loss: 2.070 -> 2.109\n",
      "Label classifier accuracy on MNIST test set (DA): 0.673500\n",
      "Domain classifier accuracy on MNIST test set (DA): 0.998614\n",
      "\n",
      "[ 50] batch loss: 0.029\n",
      "[100] batch loss: 0.025\n",
      "[150] batch loss: 0.027\n",
      "[200] batch loss: 0.027\n",
      "[250] batch loss: 0.024\n",
      "[300] batch loss: 0.031\n",
      "[350] batch loss: 0.028\n",
      "[400] batch loss: 0.035\n",
      "[450] batch loss: 0.022\n",
      "[500] batch loss: 0.034\n",
      "[550] batch loss: 0.031\n",
      "[600] batch loss: 0.027\n",
      "[650] batch loss: 0.024\n",
      "[700] batch loss: 0.031\n",
      "[750] batch loss: 0.020\n",
      "[800] batch loss: 0.023\n",
      "[850] batch loss: 0.024\n",
      "[900] batch loss: 0.028\n",
      "epoch 12 loss: 36.862 -> 25.289\n",
      "LC loss: 34.753 -> 24.002\n",
      "DC loss: 2.109 -> 1.288\n",
      "Label classifier accuracy on MNIST test set (DA): 0.632700\n",
      "Domain classifier accuracy on MNIST test set (DA): 0.998439\n",
      "\n",
      "[ 50] batch loss: 0.018\n",
      "[100] batch loss: 0.021\n",
      "[150] batch loss: 0.018\n",
      "[200] batch loss: 0.018\n",
      "[250] batch loss: 0.021\n",
      "[300] batch loss: 0.017\n",
      "[350] batch loss: 0.023\n",
      "[400] batch loss: 0.027\n",
      "[450] batch loss: 0.018\n",
      "[500] batch loss: 0.021\n",
      "[550] batch loss: 0.028\n",
      "[600] batch loss: 0.028\n",
      "[650] batch loss: 0.014\n",
      "[700] batch loss: 0.014\n",
      "[750] batch loss: 0.022\n",
      "[800] batch loss: 0.025\n",
      "[850] batch loss: 0.031\n",
      "[900] batch loss: 0.029\n",
      "epoch 13 loss: 25.289 -> 20.854\n",
      "LC loss: 24.002 -> 20.304\n",
      "DC loss: 1.288 -> 0.550\n",
      "Label classifier accuracy on MNIST test set (DA): 0.641800\n",
      "Domain classifier accuracy on MNIST test set (DA): 0.999537\n",
      "\n"
     ]
    },
    {
     "name": "stdout",
     "output_type": "stream",
     "text": [
      "[ 50] batch loss: 0.024\n",
      "[100] batch loss: 0.019\n",
      "[150] batch loss: 0.033\n",
      "[200] batch loss: 0.022\n",
      "[250] batch loss: 0.023\n",
      "[300] batch loss: 0.014\n",
      "[350] batch loss: 0.034\n",
      "[400] batch loss: 0.020\n",
      "[450] batch loss: 0.030\n",
      "[500] batch loss: 0.022\n",
      "[550] batch loss: 0.026\n",
      "[600] batch loss: 0.019\n",
      "[650] batch loss: 0.027\n",
      "[700] batch loss: 0.023\n",
      "[750] batch loss: 0.019\n",
      "[800] batch loss: 0.020\n",
      "[850] batch loss: 0.019\n",
      "[900] batch loss: 0.014\n",
      "epoch 14 loss: 20.854 -> 21.259\n",
      "LC loss: 20.304 -> 19.929\n",
      "DC loss: 0.550 -> 1.329\n",
      "Label classifier accuracy on MNIST test set (DA): 0.634700\n",
      "Domain classifier accuracy on MNIST test set (DA): 0.998066\n",
      "\n",
      "[ 50] batch loss: 0.012\n",
      "[100] batch loss: 0.025\n",
      "[150] batch loss: 0.015\n",
      "[200] batch loss: 0.016\n",
      "[250] batch loss: 0.015\n",
      "[300] batch loss: 0.020\n",
      "[350] batch loss: 0.029\n",
      "[400] batch loss: 0.018\n",
      "[450] batch loss: 0.020\n",
      "[500] batch loss: 0.016\n",
      "[550] batch loss: 0.018\n",
      "[600] batch loss: 0.026\n",
      "[650] batch loss: 0.017\n",
      "[700] batch loss: 0.019\n",
      "[750] batch loss: 0.014\n",
      "[800] batch loss: 0.013\n",
      "[850] batch loss: 0.036\n",
      "[900] batch loss: 0.016\n",
      "epoch 15 loss: 21.259 -> 18.031\n",
      "LC loss: 19.929 -> 17.292\n",
      "DC loss: 1.329 -> 0.739\n",
      "Label classifier accuracy on MNIST test set (DA): 0.670000\n",
      "Domain classifier accuracy on MNIST test set (DA): 0.999222\n",
      "\n",
      "[ 50] batch loss: 0.012\n",
      "[100] batch loss: 0.016\n",
      "[150] batch loss: 0.017\n",
      "[200] batch loss: 0.014\n",
      "[250] batch loss: 0.014\n",
      "[300] batch loss: 0.014\n",
      "[350] batch loss: 0.021\n",
      "[400] batch loss: 0.018\n",
      "[450] batch loss: 0.017\n",
      "[500] batch loss: 0.014\n",
      "[550] batch loss: 0.013\n",
      "[600] batch loss: 0.015\n",
      "[650] batch loss: 0.017\n",
      "[700] batch loss: 0.013\n",
      "[750] batch loss: 0.008\n",
      "[800] batch loss: 0.009\n",
      "[850] batch loss: 0.015\n",
      "[900] batch loss: 0.018\n",
      "epoch 16 loss: 18.031 -> 14.106\n",
      "LC loss: 17.292 -> 13.317\n",
      "DC loss: 0.739 -> 0.789\n",
      "Label classifier accuracy on MNIST test set (DA): 0.642500\n",
      "Domain classifier accuracy on MNIST test set (DA): 0.998889\n",
      "\n",
      "[ 50] batch loss: 0.022\n",
      "[100] batch loss: 0.025\n",
      "[150] batch loss: 0.023\n",
      "[200] batch loss: 0.011\n",
      "[250] batch loss: 0.016\n",
      "[300] batch loss: 0.011\n",
      "[350] batch loss: 0.014\n",
      "[400] batch loss: 0.016\n",
      "[450] batch loss: 0.009\n",
      "[500] batch loss: 0.010\n",
      "[550] batch loss: 0.010\n",
      "[600] batch loss: 0.013\n",
      "[650] batch loss: 0.025\n",
      "[700] batch loss: 0.011\n",
      "[750] batch loss: 0.010\n",
      "[800] batch loss: 0.017\n",
      "[850] batch loss: 0.024\n",
      "[900] batch loss: 0.017\n",
      "epoch 17 loss: 14.106 -> 14.791\n",
      "LC loss: 13.317 -> 12.982\n",
      "DC loss: 0.789 -> 1.809\n",
      "Label classifier accuracy on MNIST test set (DA): 0.632100\n",
      "Domain classifier accuracy on MNIST test set (DA): 0.995765\n",
      "\n",
      "[ 50] batch loss: 0.017\n",
      "[100] batch loss: 0.021\n",
      "[150] batch loss: 0.012\n",
      "[200] batch loss: 0.009\n",
      "[250] batch loss: 0.011\n",
      "[300] batch loss: 0.007\n",
      "[350] batch loss: 0.022\n",
      "[400] batch loss: 0.016\n",
      "[450] batch loss: 0.029\n",
      "[500] batch loss: 0.016\n",
      "[550] batch loss: 0.019\n",
      "[600] batch loss: 0.014\n",
      "[650] batch loss: 0.022\n",
      "[700] batch loss: 0.016\n",
      "[750] batch loss: 0.018\n",
      "[800] batch loss: 0.014\n",
      "[850] batch loss: 0.018\n",
      "[900] batch loss: 0.014\n",
      "epoch 18 loss: 14.791 -> 15.367\n",
      "LC loss: 12.982 -> 14.548\n",
      "DC loss: 1.809 -> 0.818\n",
      "Label classifier accuracy on MNIST test set (DA): 0.619800\n",
      "Domain classifier accuracy on MNIST test set (DA): 0.998665\n",
      "\n",
      "[ 50] batch loss: 0.012\n",
      "[100] batch loss: 0.007\n",
      "[150] batch loss: 0.014\n",
      "[200] batch loss: 0.011\n",
      "[250] batch loss: 0.008\n",
      "[300] batch loss: 0.010\n",
      "[350] batch loss: 0.020\n",
      "[400] batch loss: 0.011\n",
      "[450] batch loss: 0.010\n",
      "[500] batch loss: 0.013\n",
      "[550] batch loss: 0.010\n",
      "[600] batch loss: 0.006\n",
      "[650] batch loss: 0.006\n",
      "[700] batch loss: 0.007\n",
      "[750] batch loss: 0.008\n",
      "[800] batch loss: 0.006\n",
      "[850] batch loss: 0.005\n",
      "[900] batch loss: 0.009\n",
      "epoch 19 loss: 15.367 -> 9.102\n",
      "LC loss: 14.548 -> 8.756\n",
      "DC loss: 0.818 -> 0.346\n",
      "Label classifier accuracy on MNIST test set (DA): 0.620600\n",
      "Domain classifier accuracy on MNIST test set (DA): 0.999240\n",
      "\n",
      "[ 50] batch loss: 0.006\n",
      "[100] batch loss: 0.005\n",
      "[150] batch loss: 0.005\n",
      "[200] batch loss: 0.011\n",
      "[250] batch loss: 0.012\n",
      "[300] batch loss: 0.009\n",
      "[350] batch loss: 0.009\n",
      "[400] batch loss: 0.010\n",
      "[450] batch loss: 0.008\n",
      "[500] batch loss: 0.006\n",
      "[550] batch loss: 0.007\n",
      "[600] batch loss: 0.005\n",
      "[650] batch loss: 0.008\n",
      "[700] batch loss: 0.018\n",
      "[750] batch loss: 0.011\n",
      "[800] batch loss: 0.016\n",
      "[850] batch loss: 0.016\n",
      "[900] batch loss: 0.014\n",
      "epoch 20 loss: 9.102 -> 9.439\n",
      "LC loss: 8.756 -> 8.756\n",
      "DC loss: 0.346 -> 0.682\n",
      "Label classifier accuracy on MNIST test set (DA): 0.593400\n",
      "Domain classifier accuracy on MNIST test set (DA): 0.999059\n",
      "\n",
      "[ 50] batch loss: 0.008\n",
      "[100] batch loss: 0.010\n",
      "[150] batch loss: 0.012\n",
      "[200] batch loss: 0.014\n",
      "[250] batch loss: 0.007\n",
      "[300] batch loss: 0.007\n",
      "[350] batch loss: 0.011\n",
      "[400] batch loss: 0.010\n",
      "[450] batch loss: 0.007\n",
      "[500] batch loss: 0.005\n",
      "[550] batch loss: 0.003\n",
      "[600] batch loss: 0.006\n",
      "[650] batch loss: 0.003\n",
      "[700] batch loss: 0.010\n",
      "[750] batch loss: 0.018\n",
      "[800] batch loss: 0.010\n",
      "[850] batch loss: 0.009\n",
      "[900] batch loss: 0.014\n",
      "epoch 21 loss: 9.439 -> 9.121\n",
      "LC loss: 8.756 -> 8.743\n",
      "DC loss: 0.682 -> 0.379\n",
      "Label classifier accuracy on MNIST test set (DA): 0.602200\n",
      "Domain classifier accuracy on MNIST test set (DA): 0.998716\n",
      "\n",
      "[ 50] batch loss: 0.012\n",
      "[100] batch loss: 0.016\n",
      "[150] batch loss: 0.009\n",
      "[200] batch loss: 0.008\n",
      "[250] batch loss: 0.008\n",
      "[300] batch loss: 0.004\n",
      "[350] batch loss: 0.005\n",
      "[400] batch loss: 0.014\n",
      "[450] batch loss: 0.006\n",
      "[500] batch loss: 0.006\n",
      "[550] batch loss: 0.006\n",
      "[600] batch loss: 0.004\n",
      "[650] batch loss: 0.014\n",
      "[700] batch loss: 0.005\n",
      "[750] batch loss: 0.013\n",
      "[800] batch loss: 0.016\n",
      "[850] batch loss: 0.010\n",
      "[900] batch loss: 0.006\n",
      "epoch 22 loss: 9.121 -> 8.298\n",
      "LC loss: 8.743 -> 8.058\n",
      "DC loss: 0.379 -> 0.240\n",
      "Label classifier accuracy on MNIST test set (DA): 0.647800\n",
      "Domain classifier accuracy on MNIST test set (DA): 0.999261\n",
      "\n",
      "[ 50] batch loss: 0.007\n",
      "[100] batch loss: 0.006\n",
      "[150] batch loss: 0.008\n",
      "[200] batch loss: 0.007\n",
      "[250] batch loss: 0.007\n",
      "[300] batch loss: 0.014\n",
      "[350] batch loss: 0.007\n",
      "[400] batch loss: 0.008\n",
      "[450] batch loss: 0.005\n",
      "[500] batch loss: 0.005\n",
      "[550] batch loss: 0.008\n",
      "[600] batch loss: 0.006\n",
      "[650] batch loss: 0.006\n",
      "[700] batch loss: 0.008\n",
      "[750] batch loss: 0.004\n",
      "[800] batch loss: 0.010\n",
      "[850] batch loss: 0.021\n",
      "[900] batch loss: 0.022\n",
      "epoch 23 loss: 8.298 -> 8.563\n",
      "LC loss: 8.058 -> 8.373\n",
      "DC loss: 0.240 -> 0.189\n",
      "Label classifier accuracy on MNIST test set (DA): 0.637100\n",
      "Domain classifier accuracy on MNIST test set (DA): 0.998835\n",
      "\n",
      "[ 50] batch loss: 0.005\n",
      "[100] batch loss: 0.014\n",
      "[150] batch loss: 0.009\n",
      "[200] batch loss: 0.009\n",
      "[250] batch loss: 0.006\n",
      "[300] batch loss: 0.003\n",
      "[350] batch loss: 0.006\n",
      "[400] batch loss: 0.010\n",
      "[450] batch loss: 0.009\n",
      "[500] batch loss: 0.006\n",
      "[550] batch loss: 0.004\n",
      "[600] batch loss: 0.003\n",
      "[650] batch loss: 0.004\n",
      "[700] batch loss: 0.006\n",
      "[750] batch loss: 0.004\n",
      "[800] batch loss: 0.004\n",
      "[850] batch loss: 0.006\n",
      "[900] batch loss: 0.008\n",
      "epoch 24 loss: 8.563 -> 6.099\n",
      "LC loss: 8.373 -> 5.902\n",
      "DC loss: 0.189 -> 0.197\n",
      "Label classifier accuracy on MNIST test set (DA): 0.656300\n",
      "Domain classifier accuracy on MNIST test set (DA): 0.999618\n",
      "\n",
      "[ 50] batch loss: 0.007\n",
      "[100] batch loss: 0.011\n",
      "[150] batch loss: 0.012\n",
      "[200] batch loss: 0.005\n",
      "[250] batch loss: 0.009\n",
      "[300] batch loss: 0.009\n",
      "[350] batch loss: 0.009\n",
      "[400] batch loss: 0.006\n",
      "[450] batch loss: 0.004\n",
      "[500] batch loss: 0.007\n",
      "[550] batch loss: 0.004\n",
      "[600] batch loss: 0.003\n",
      "[650] batch loss: 0.004\n",
      "[700] batch loss: 0.004\n",
      "[750] batch loss: 0.002\n",
      "[800] batch loss: 0.003\n",
      "[850] batch loss: 0.002\n",
      "[900] batch loss: 0.002\n",
      "epoch 25 loss: 6.099 -> 5.218\n",
      "LC loss: 5.902 -> 5.144\n",
      "DC loss: 0.197 -> 0.074\n",
      "Label classifier accuracy on MNIST test set (DA): 0.652700\n",
      "Domain classifier accuracy on MNIST test set (DA): 0.999193\n",
      "\n",
      "[ 50] batch loss: 0.001\n",
      "[100] batch loss: 0.001\n",
      "[150] batch loss: 0.002\n",
      "[200] batch loss: 0.002\n",
      "[250] batch loss: 0.003\n",
      "[300] batch loss: 0.002\n",
      "[350] batch loss: 0.004\n",
      "[400] batch loss: 0.004\n",
      "[450] batch loss: 0.003\n",
      "[500] batch loss: 0.002\n",
      "[550] batch loss: 0.003\n",
      "[600] batch loss: 0.004\n",
      "[650] batch loss: 0.012\n",
      "[700] batch loss: 0.020\n",
      "[750] batch loss: 0.021\n",
      "[800] batch loss: 0.015\n",
      "[850] batch loss: 0.012\n",
      "[900] batch loss: 0.006\n",
      "epoch 26 loss: 5.218 -> 6.218\n",
      "LC loss: 5.144 -> 6.146\n",
      "DC loss: 0.074 -> 0.072\n",
      "Label classifier accuracy on MNIST test set (DA): 0.644700\n",
      "Domain classifier accuracy on MNIST test set (DA): 0.999519\n",
      "\n"
     ]
    },
    {
     "name": "stdout",
     "output_type": "stream",
     "text": [
      "[ 50] batch loss: 0.003\n",
      "[100] batch loss: 0.005\n",
      "[150] batch loss: 0.010\n",
      "[200] batch loss: 0.008\n",
      "[250] batch loss: 0.004\n",
      "[300] batch loss: 0.006\n",
      "[350] batch loss: 0.017\n",
      "[400] batch loss: 0.012\n",
      "[450] batch loss: 0.016\n",
      "[500] batch loss: 0.013\n",
      "[550] batch loss: 0.007\n",
      "[600] batch loss: 0.003\n",
      "[650] batch loss: 0.005\n",
      "[700] batch loss: 0.003\n",
      "[750] batch loss: 0.009\n",
      "[800] batch loss: 0.007\n",
      "[850] batch loss: 0.010\n",
      "[900] batch loss: 0.003\n",
      "epoch 27 loss: 6.218 -> 7.147\n",
      "LC loss: 6.146 -> 6.944\n",
      "DC loss: 0.072 -> 0.203\n",
      "Label classifier accuracy on MNIST test set (DA): 0.640000\n",
      "Domain classifier accuracy on MNIST test set (DA): 0.999583\n",
      "\n",
      "[ 50] batch loss: 0.002\n",
      "[100] batch loss: 0.003\n",
      "[150] batch loss: 0.006\n",
      "[200] batch loss: 0.003\n",
      "[250] batch loss: 0.014\n",
      "[300] batch loss: 0.023\n",
      "[350] batch loss: 0.014\n",
      "[400] batch loss: 0.016\n",
      "[450] batch loss: 0.007\n",
      "[500] batch loss: 0.010\n",
      "[550] batch loss: 0.006\n",
      "[600] batch loss: 0.017\n",
      "[650] batch loss: 0.013\n",
      "[700] batch loss: 0.007\n",
      "[750] batch loss: 0.018\n",
      "[800] batch loss: 0.033\n",
      "[850] batch loss: 0.103\n",
      "[900] batch loss: 0.112\n",
      "epoch 28 loss: 7.147 -> 23.962\n",
      "LC loss: 6.944 -> 16.131\n",
      "DC loss: 0.203 -> 7.832\n",
      "Label classifier accuracy on MNIST test set (DA): 0.625300\n",
      "Domain classifier accuracy on MNIST test set (DA): 0.987921\n",
      "\n",
      "[ 50] batch loss: 0.030\n",
      "[100] batch loss: 0.028\n",
      "[150] batch loss: 0.023\n",
      "[200] batch loss: 0.029\n",
      "[250] batch loss: 0.018\n",
      "[300] batch loss: 0.029\n",
      "[350] batch loss: 0.027\n",
      "[400] batch loss: 0.027\n",
      "[450] batch loss: 0.026\n",
      "[500] batch loss: 0.027\n",
      "[550] batch loss: 0.030\n",
      "[600] batch loss: 0.022\n",
      "[650] batch loss: 0.024\n",
      "[700] batch loss: 0.020\n",
      "[750] batch loss: 0.011\n",
      "[800] batch loss: 0.015\n",
      "[850] batch loss: 0.009\n",
      "[900] batch loss: 0.012\n",
      "epoch 29 loss: 23.962 -> 20.935\n",
      "LC loss: 16.131 -> 18.409\n",
      "DC loss: 7.832 -> 2.526\n",
      "Label classifier accuracy on MNIST test set (DA): 0.645500\n",
      "Domain classifier accuracy on MNIST test set (DA): 0.998604\n",
      "\n",
      "[ 50] batch loss: 0.014\n",
      "[100] batch loss: 0.012\n",
      "[150] batch loss: 0.012\n",
      "[200] batch loss: 0.012\n",
      "[250] batch loss: 0.017\n",
      "[300] batch loss: 0.014\n",
      "[350] batch loss: 0.013\n",
      "[400] batch loss: 0.006\n",
      "[450] batch loss: 0.007\n",
      "[500] batch loss: 0.015\n",
      "[550] batch loss: 0.009\n",
      "[600] batch loss: 0.009\n",
      "[650] batch loss: 0.021\n",
      "[700] batch loss: 0.014\n",
      "[750] batch loss: 0.006\n",
      "[800] batch loss: 0.006\n",
      "[850] batch loss: 0.013\n",
      "[900] batch loss: 0.011\n",
      "epoch 30 loss: 20.935 -> 10.935\n",
      "LC loss: 18.409 -> 10.130\n",
      "DC loss: 2.526 -> 0.805\n",
      "Label classifier accuracy on MNIST test set (DA): 0.618900\n",
      "Domain classifier accuracy on MNIST test set (DA): 0.999566\n",
      "\n"
     ]
    }
   ],
   "source": [
    "#%%skip $load_model_da\n",
    "\n",
    "prev_loss = np.float(\"inf\")\n",
    "prev_loss_LC = np.float(\"inf\")\n",
    "prev_loss_DC = np.float(\"inf\")\n",
    "total_epoch = 30\n",
    "reset(cnn_da)\n",
    "\n",
    "for epoch in range(total_epoch):\n",
    "    epoch_loss = 0.0\n",
    "    running_loss = 0.0\n",
    "    epoch_loss_LC = 0.0\n",
    "    epoch_loss_DC = 0.0\n",
    "    p = epoch * 1.0 / total_epoch\n",
    "    # adjust_lr(optimizer, p)\n",
    "    lamda = adjust_lamda(cnn_da, p)\n",
    "    for i, data in enumerate(trainloader_da):\n",
    "        # get inputs\n",
    "        source_size = data[0].size()[0] // 2\n",
    "        inputs, labels, domains = data\n",
    "        domains = domains.to(torch.float32)\n",
    "        if (use_gpu):\n",
    "            inputs, labels, domains = inputs.cuda(), labels.cuda(), domains.cuda()\n",
    "        inputs, labels, domains = Variable(inputs), Variable(labels), Variable(domains)\n",
    "        optimizer.zero_grad()\n",
    "        # forward\n",
    "        outputs_LC, outputs_DC, f, l = cnn_da(inputs)\n",
    "        # compute loss\n",
    "        outputs_DC = outputs_DC.view(-1)\n",
    "        loss_LC = criterion_LC(outputs_LC[:source_size], labels[:source_size])\n",
    "        loss_DC = criterion_DC(outputs_DC, domains)\n",
    "        loss = loss_LC + loss_DC\n",
    "        # backward\n",
    "        loss.backward()\n",
    "        optimizer.step()\n",
    "        # stat\n",
    "        epoch_loss += loss.item()\n",
    "        running_loss += loss.item()\n",
    "        epoch_loss_LC += loss_LC.item()\n",
    "        epoch_loss_DC += loss_DC.item()\n",
    "        if i % 50 == 49:    # print every 50 mini-batches\n",
    "            print('[%3d] batch loss: %.3f' %\n",
    "                  (i + 1, running_loss / 50))\n",
    "            running_loss = 0.0\n",
    "#     f_da, lh_da, _ = extract_features_da(cnn_da, testloader)\n",
    "#     f_m_da, lh_m_da, _ = extract_features_da(cnn_da, testloader_m)\n",
    "#     visualize_da(f_da.numpy(), f_m_da.numpy(), perplexity=30, sample_num=200,\n",
    "#                  save=\"./pics/f_\" + str(epoch + 1) + \".svg\")\n",
    "#     visualize_da(lh_da.numpy(), lh_m_da.numpy(), perplexity=30, sample_num=200,\n",
    "#                  save=\"./pics/lh_\" + str(epoch + 1) + \".svg\")\n",
    "    print(\"epoch %d loss: %.3f -> %.3f\" % (epoch + 1, prev_loss, epoch_loss))\n",
    "    print(\"LC loss: %.3f -> %.3f\" % (prev_loss_LC, epoch_loss_LC))\n",
    "    print(\"DC loss: %.3f -> %.3f\" % (prev_loss_DC, epoch_loss_DC))\n",
    "    print((\"Label classifier accuracy on MNIST test set (DA): %f\\n\"\n",
    "           \"Domain classifier accuracy on MNIST test set (DA): %f\\n\")\n",
    "          %evaluate_da_accuracy(cnn_da, testloader, source=False))\n",
    "    if prev_loss - epoch_loss < 0.1:\n",
    "        prev_loss = epoch_loss\n",
    "        prev_loss_LC = epoch_loss_LC\n",
    "        prev_loss_DC = epoch_loss_DC\n",
    "        pass\n",
    "    else:\n",
    "        prev_loss = epoch_loss\n",
    "        prev_loss_LC = epoch_loss_LC\n",
    "        prev_loss_DC = epoch_loss_DC"
   ]
  },
  {
   "cell_type": "code",
   "execution_count": 94,
   "metadata": {},
   "outputs": [],
   "source": [
    "%%skip $load_model_da\n",
    "\n",
    "torch.save(cnn_da.state_dict(), para_file_da)"
   ]
  },
  {
   "cell_type": "markdown",
   "metadata": {},
   "source": [
    "### Test on SVHN and MNIST dataset"
   ]
  },
  {
   "cell_type": "code",
   "execution_count": 34,
   "metadata": {},
   "outputs": [],
   "source": [
    "def evaluate_da_accuracy(model, dataloader, source):\n",
    "    model.eval()\n",
    "    correct_LC = 0\n",
    "    correct_DC = 0\n",
    "    total = 0\n",
    "    \n",
    "    with torch.no_grad():\n",
    "        for i, data in enumerate(dataloader):\n",
    "            inputs, labels = data\n",
    "            if (use_gpu):\n",
    "                inputs, labels = inputs.cuda(), labels.cuda()\n",
    "            inputs, labels = Variable(inputs), Variable(labels)\n",
    "            outputs_LC, outputs_DC, _, _ = model(inputs)\n",
    "            correct_LC += (torch.max(outputs_LC.data, 1)[1] == labels.data).sum().item()\n",
    "            if source:\n",
    "                correct_DC += labels.size()[0] - outputs_DC.data.sum().item()\n",
    "            else:\n",
    "                correct_DC += outputs_DC.data.sum().item()\n",
    "            total += labels.size()[0]\n",
    "        acc_LC = correct_LC / total\n",
    "        acc_DC = correct_DC / total\n",
    "    return acc_LC, acc_DC"
   ]
  },
  {
   "cell_type": "code",
   "execution_count": 35,
   "metadata": {
    "scrolled": true
   },
   "outputs": [
    {
     "name": "stdout",
     "output_type": "stream",
     "text": [
      "Label classifier accuracy on SVHN test set (DA): 0.919215\n",
      "Domain classifier accuracy on SVHN test set (DA): 0.999045\n"
     ]
    }
   ],
   "source": [
    "print((\"Label classifier accuracy on SVHN test set (DA): %f\\n\"\n",
    "       \"Domain classifier accuracy on SVHN test set (DA): %f\")\n",
    "      %evaluate_da_accuracy(cnn_da, testloader_svhn, source=True))"
   ]
  },
  {
   "cell_type": "code",
   "execution_count": 36,
   "metadata": {},
   "outputs": [
    {
     "name": "stdout",
     "output_type": "stream",
     "text": [
      "Label classifier accuracy on MNIST test set (DA): 0.697800\n",
      "Domain classifier accuracy on MNIST test set (DA): 1.000000\n"
     ]
    }
   ],
   "source": [
    "print((\"Label classifier accuracy on MNIST test set (DA): %f\\n\"\n",
    "       \"Domain classifier accuracy on MNIST test set (DA): %f\")\n",
    "      %evaluate_da_accuracy(cnn_da, testloader, source=False))"
   ]
  },
  {
   "cell_type": "markdown",
   "metadata": {},
   "source": [
    "### Visualization"
   ]
  },
  {
   "cell_type": "code",
   "execution_count": 95,
   "metadata": {},
   "outputs": [],
   "source": [
    "f_svhn_da, lh_svhn_da, l_svhn_da = extract_features_da(cnn_da, testloader_svhn)\n",
    "f_da, lh_da, l_da = extract_features_da(cnn_da, testloader)"
   ]
  },
  {
   "cell_type": "markdown",
   "metadata": {},
   "source": [
    "Features of MNIST test set (extracted by DA model)"
   ]
  },
  {
   "cell_type": "code",
   "execution_count": 96,
   "metadata": {},
   "outputs": [
    {
     "data": {
      "image/png": "[encoded data removed]",
      "text/plain": [
       "<Figure size 432x288 with 1 Axes>"
      ]
     },
     "metadata": {},
     "output_type": "display_data"
    }
   ],
   "source": [
    "visualize_da(f_svhn_da.numpy(), f_da.numpy(), perplexity=50, sample_num=500,\n",
    "             save=\"./pics/SVHN_to_MNIST_features_Adapted.svg\")"
   ]
  },
  {
   "cell_type": "markdown",
   "metadata": {},
   "source": [
    "Features of MNIST-M test set (extracted by DA model)"
   ]
  },
  {
   "cell_type": "code",
   "execution_count": 97,
   "metadata": {
    "scrolled": true
   },
   "outputs": [
    {
     "data": {
      "image/png": "[encoded data removed]",
      "text/plain": [
       "<Figure size 432x288 with 1 Axes>"
      ]
     },
     "metadata": {},
     "output_type": "display_data"
    }
   ],
   "source": [
    "visualize_da(lh_svhn_da.numpy(), lh_da.numpy(), perplexity=50, sample_num=500,\n",
    "             save=\"./pics/SVHN_to_MNIST_lasthidden_Adapted.svg\")"
   ]
  },
  {
   "cell_type": "code",
   "execution_count": null,
   "metadata": {},
   "outputs": [],
   "source": []
  }
 ],
 "metadata": {
  "accelerator": "GPU",
  "colab": {
   "collapsed_sections": [],
   "default_view": {},
   "name": "My_CNN_Tutorial.ipynb",
   "provenance": [],
   "version": "0.3.2",
   "views": {}
  },
  "kernelspec": {
   "display_name": "Python 3",
   "language": "python",
   "name": "python3"
  },
  "language_info": {
   "codemirror_mode": {
    "name": "ipython",
    "version": 3
   },
   "file_extension": ".py",
   "mimetype": "text/x-python",
   "name": "python",
   "nbconvert_exporter": "python",
   "pygments_lexer": "ipython3",
   "version": "3.6.4"
  }
 },
 "nbformat": 4,
 "nbformat_minor": 1
}
